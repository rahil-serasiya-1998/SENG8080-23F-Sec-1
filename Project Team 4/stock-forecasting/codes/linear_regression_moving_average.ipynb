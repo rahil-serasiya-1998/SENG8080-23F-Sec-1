{
 "cells": [
  {
   "cell_type": "markdown",
   "id": "998c27d3-9e7a-4001-a3b4-d8acd5a08240",
   "metadata": {},
   "source": [
    "Installing Libraries"
   ]
  },
  {
   "cell_type": "code",
   "execution_count": 1,
   "id": "5761f03a-deaf-475a-ac5f-5d8ea95f0b4e",
   "metadata": {},
   "outputs": [
    {
     "name": "stdout",
     "output_type": "stream",
     "text": [
      "Collecting yfinance\n",
      "  Obtaining dependency information for yfinance from https://files.pythonhosted.org/packages/1c/19/bf19123baf16a55fd38cbb100b5a49380b9b6db7279987034689d11254c7/yfinance-0.2.32-py2.py3-none-any.whl.metadata\n",
      "  Using cached yfinance-0.2.32-py2.py3-none-any.whl.metadata (11 kB)\n",
      "Requirement already satisfied: pandas>=1.3.0 in /opt/conda/lib/python3.10/site-packages (from yfinance) (2.0.3)\n",
      "Requirement already satisfied: numpy>=1.16.5 in /opt/conda/lib/python3.10/site-packages (from yfinance) (1.23.5)\n",
      "Requirement already satisfied: requests>=2.31 in /opt/conda/lib/python3.10/site-packages (from yfinance) (2.31.0)\n",
      "Collecting multitasking>=0.0.7 (from yfinance)\n",
      "  Using cached multitasking-0.0.11-py3-none-any.whl (8.5 kB)\n",
      "Collecting lxml>=4.9.1 (from yfinance)\n",
      "  Obtaining dependency information for lxml>=4.9.1 from https://files.pythonhosted.org/packages/3c/d2/11533f0bc47ff4d828a20cfb702f3453fe714bd5b475fcdc8cec6e6b7dcf/lxml-4.9.3-cp310-cp310-manylinux_2_28_x86_64.whl.metadata\n",
      "  Using cached lxml-4.9.3-cp310-cp310-manylinux_2_28_x86_64.whl.metadata (3.8 kB)\n",
      "Collecting appdirs>=1.4.4 (from yfinance)\n",
      "  Using cached appdirs-1.4.4-py2.py3-none-any.whl (9.6 kB)\n",
      "Requirement already satisfied: pytz>=2022.5 in /opt/conda/lib/python3.10/site-packages (from yfinance) (2023.3.post1)\n",
      "Collecting frozendict>=2.3.4 (from yfinance)\n",
      "  Obtaining dependency information for frozendict>=2.3.4 from https://files.pythonhosted.org/packages/bf/e8/6eb098234b607ed660501a951b4b9190bf7bceff10a66cda828f32ad6e1a/frozendict-2.3.10-cp310-cp310-manylinux_2_17_x86_64.manylinux2014_x86_64.whl.metadata\n",
      "  Using cached frozendict-2.3.10-cp310-cp310-manylinux_2_17_x86_64.manylinux2014_x86_64.whl.metadata (20 kB)\n",
      "Collecting peewee>=3.16.2 (from yfinance)\n",
      "  Using cached peewee-3.17.0-cp310-cp310-linux_x86_64.whl\n",
      "Requirement already satisfied: beautifulsoup4>=4.11.1 in /opt/conda/lib/python3.10/site-packages (from yfinance) (4.12.2)\n",
      "Collecting html5lib>=1.1 (from yfinance)\n",
      "  Using cached html5lib-1.1-py2.py3-none-any.whl (112 kB)\n",
      "Requirement already satisfied: soupsieve>1.2 in /opt/conda/lib/python3.10/site-packages (from beautifulsoup4>=4.11.1->yfinance) (2.5)\n",
      "Requirement already satisfied: six>=1.9 in /opt/conda/lib/python3.10/site-packages (from html5lib>=1.1->yfinance) (1.16.0)\n",
      "Requirement already satisfied: webencodings in /opt/conda/lib/python3.10/site-packages (from html5lib>=1.1->yfinance) (0.5.1)\n",
      "Requirement already satisfied: python-dateutil>=2.8.2 in /opt/conda/lib/python3.10/site-packages (from pandas>=1.3.0->yfinance) (2.8.2)\n",
      "Requirement already satisfied: tzdata>=2022.1 in /opt/conda/lib/python3.10/site-packages (from pandas>=1.3.0->yfinance) (2023.3)\n",
      "Requirement already satisfied: charset-normalizer<4,>=2 in /opt/conda/lib/python3.10/site-packages (from requests>=2.31->yfinance) (3.2.0)\n",
      "Requirement already satisfied: idna<4,>=2.5 in /opt/conda/lib/python3.10/site-packages (from requests>=2.31->yfinance) (3.4)\n",
      "Requirement already satisfied: urllib3<3,>=1.21.1 in /opt/conda/lib/python3.10/site-packages (from requests>=2.31->yfinance) (1.26.16)\n",
      "Requirement already satisfied: certifi>=2017.4.17 in /opt/conda/lib/python3.10/site-packages (from requests>=2.31->yfinance) (2023.7.22)\n",
      "Using cached yfinance-0.2.32-py2.py3-none-any.whl (68 kB)\n",
      "Using cached frozendict-2.3.10-cp310-cp310-manylinux_2_17_x86_64.manylinux2014_x86_64.whl (115 kB)\n",
      "Using cached lxml-4.9.3-cp310-cp310-manylinux_2_28_x86_64.whl (7.9 MB)\n",
      "Installing collected packages: peewee, multitasking, appdirs, lxml, html5lib, frozendict, yfinance\n",
      "Successfully installed appdirs-1.4.4 frozendict-2.3.10 html5lib-1.1 lxml-4.9.3 multitasking-0.0.11 peewee-3.17.0 yfinance-0.2.32\n",
      "Note: you may need to restart the kernel to use updated packages.\n"
     ]
    }
   ],
   "source": [
    "pip install yfinance"
   ]
  },
  {
   "cell_type": "code",
   "execution_count": 2,
   "id": "fdee6bc0-a4ac-4381-a1ad-199e5aa5c527",
   "metadata": {},
   "outputs": [
    {
     "name": "stdout",
     "output_type": "stream",
     "text": [
      "Requirement already satisfied: tensorflow in ./.local/lib/python3.10/site-packages (2.15.0)\n",
      "Requirement already satisfied: absl-py>=1.0.0 in /opt/conda/lib/python3.10/site-packages (from tensorflow) (2.0.0)\n",
      "Requirement already satisfied: astunparse>=1.6.0 in ./.local/lib/python3.10/site-packages (from tensorflow) (1.6.3)\n",
      "Collecting flatbuffers>=23.5.26 (from tensorflow)\n",
      "  Obtaining dependency information for flatbuffers>=23.5.26 from https://files.pythonhosted.org/packages/6f/12/d5c79ee252793ffe845d58a913197bfa02ae9a0b5c9bc3dc4b58d477b9e7/flatbuffers-23.5.26-py2.py3-none-any.whl.metadata\n",
      "  Using cached flatbuffers-23.5.26-py2.py3-none-any.whl.metadata (850 bytes)\n",
      "Requirement already satisfied: gast!=0.5.0,!=0.5.1,!=0.5.2,>=0.2.1 in ./.local/lib/python3.10/site-packages (from tensorflow) (0.5.4)\n",
      "Requirement already satisfied: google-pasta>=0.1.1 in ./.local/lib/python3.10/site-packages (from tensorflow) (0.2.0)\n",
      "Requirement already satisfied: h5py>=2.9.0 in ./.local/lib/python3.10/site-packages (from tensorflow) (3.10.0)\n",
      "Collecting libclang>=13.0.0 (from tensorflow)\n",
      "  Obtaining dependency information for libclang>=13.0.0 from https://files.pythonhosted.org/packages/ea/df/55525e489c43f9dbb6c8ea27d8a567b3dcd18a22f3c45483055f5ca6611d/libclang-16.0.6-py2.py3-none-manylinux2010_x86_64.whl.metadata\n",
      "  Using cached libclang-16.0.6-py2.py3-none-manylinux2010_x86_64.whl.metadata (5.2 kB)\n",
      "Requirement already satisfied: ml-dtypes~=0.2.0 in ./.local/lib/python3.10/site-packages (from tensorflow) (0.2.0)\n",
      "Requirement already satisfied: numpy<2.0.0,>=1.23.5 in /opt/conda/lib/python3.10/site-packages (from tensorflow) (1.23.5)\n",
      "Requirement already satisfied: opt-einsum>=2.3.2 in ./.local/lib/python3.10/site-packages (from tensorflow) (3.3.0)\n",
      "Requirement already satisfied: packaging in /opt/conda/lib/python3.10/site-packages (from tensorflow) (23.1)\n",
      "Requirement already satisfied: protobuf!=4.21.0,!=4.21.1,!=4.21.2,!=4.21.3,!=4.21.4,!=4.21.5,<5.0.0dev,>=3.20.3 in /opt/conda/lib/python3.10/site-packages (from tensorflow) (3.20.3)\n",
      "Requirement already satisfied: setuptools in /opt/conda/lib/python3.10/site-packages (from tensorflow) (68.2.2)\n",
      "Requirement already satisfied: six>=1.12.0 in /opt/conda/lib/python3.10/site-packages (from tensorflow) (1.16.0)\n",
      "Requirement already satisfied: termcolor>=1.1.0 in ./.local/lib/python3.10/site-packages (from tensorflow) (2.3.0)\n",
      "Requirement already satisfied: typing-extensions>=3.6.6 in /opt/conda/lib/python3.10/site-packages (from tensorflow) (4.8.0)\n",
      "Requirement already satisfied: wrapt<1.15,>=1.11.0 in ./.local/lib/python3.10/site-packages (from tensorflow) (1.14.1)\n",
      "Requirement already satisfied: tensorflow-io-gcs-filesystem>=0.23.1 in ./.local/lib/python3.10/site-packages (from tensorflow) (0.34.0)\n",
      "Requirement already satisfied: grpcio<2.0,>=1.24.3 in /opt/conda/lib/python3.10/site-packages (from tensorflow) (1.58.0)\n",
      "Requirement already satisfied: tensorboard<2.16,>=2.15 in ./.local/lib/python3.10/site-packages (from tensorflow) (2.15.1)\n",
      "Requirement already satisfied: tensorflow-estimator<2.16,>=2.15.0 in ./.local/lib/python3.10/site-packages (from tensorflow) (2.15.0)\n",
      "Requirement already satisfied: keras<2.16,>=2.15.0 in ./.local/lib/python3.10/site-packages (from tensorflow) (2.15.0)\n",
      "Requirement already satisfied: wheel<1.0,>=0.23.0 in /opt/conda/lib/python3.10/site-packages (from astunparse>=1.6.0->tensorflow) (0.41.2)\n",
      "Requirement already satisfied: google-auth<3,>=1.6.3 in /opt/conda/lib/python3.10/site-packages (from tensorboard<2.16,>=2.15->tensorflow) (2.23.0)\n",
      "Requirement already satisfied: google-auth-oauthlib<2,>=0.5 in /opt/conda/lib/python3.10/site-packages (from tensorboard<2.16,>=2.15->tensorflow) (1.1.0)\n",
      "Requirement already satisfied: markdown>=2.6.8 in ./.local/lib/python3.10/site-packages (from tensorboard<2.16,>=2.15->tensorflow) (3.5.1)\n",
      "Requirement already satisfied: requests<3,>=2.21.0 in /opt/conda/lib/python3.10/site-packages (from tensorboard<2.16,>=2.15->tensorflow) (2.31.0)\n",
      "Requirement already satisfied: tensorboard-data-server<0.8.0,>=0.7.0 in ./.local/lib/python3.10/site-packages (from tensorboard<2.16,>=2.15->tensorflow) (0.7.2)\n",
      "Requirement already satisfied: werkzeug>=1.0.1 in ./.local/lib/python3.10/site-packages (from tensorboard<2.16,>=2.15->tensorflow) (3.0.1)\n",
      "Requirement already satisfied: cachetools<6.0,>=2.0.0 in /opt/conda/lib/python3.10/site-packages (from google-auth<3,>=1.6.3->tensorboard<2.16,>=2.15->tensorflow) (5.3.1)\n",
      "Requirement already satisfied: pyasn1-modules>=0.2.1 in /opt/conda/lib/python3.10/site-packages (from google-auth<3,>=1.6.3->tensorboard<2.16,>=2.15->tensorflow) (0.3.0)\n",
      "Requirement already satisfied: rsa<5,>=3.1.4 in /opt/conda/lib/python3.10/site-packages (from google-auth<3,>=1.6.3->tensorboard<2.16,>=2.15->tensorflow) (4.9)\n",
      "Requirement already satisfied: urllib3<2.0 in /opt/conda/lib/python3.10/site-packages (from google-auth<3,>=1.6.3->tensorboard<2.16,>=2.15->tensorflow) (1.26.16)\n",
      "Requirement already satisfied: requests-oauthlib>=0.7.0 in /opt/conda/lib/python3.10/site-packages (from google-auth-oauthlib<2,>=0.5->tensorboard<2.16,>=2.15->tensorflow) (1.3.1)\n",
      "Requirement already satisfied: charset-normalizer<4,>=2 in /opt/conda/lib/python3.10/site-packages (from requests<3,>=2.21.0->tensorboard<2.16,>=2.15->tensorflow) (3.2.0)\n",
      "Requirement already satisfied: idna<4,>=2.5 in /opt/conda/lib/python3.10/site-packages (from requests<3,>=2.21.0->tensorboard<2.16,>=2.15->tensorflow) (3.4)\n",
      "Requirement already satisfied: certifi>=2017.4.17 in /opt/conda/lib/python3.10/site-packages (from requests<3,>=2.21.0->tensorboard<2.16,>=2.15->tensorflow) (2023.7.22)\n",
      "Requirement already satisfied: MarkupSafe>=2.1.1 in /opt/conda/lib/python3.10/site-packages (from werkzeug>=1.0.1->tensorboard<2.16,>=2.15->tensorflow) (2.1.3)\n",
      "Requirement already satisfied: pyasn1<0.6.0,>=0.4.6 in /opt/conda/lib/python3.10/site-packages (from pyasn1-modules>=0.2.1->google-auth<3,>=1.6.3->tensorboard<2.16,>=2.15->tensorflow) (0.5.0)\n",
      "Requirement already satisfied: oauthlib>=3.0.0 in /opt/conda/lib/python3.10/site-packages (from requests-oauthlib>=0.7.0->google-auth-oauthlib<2,>=0.5->tensorboard<2.16,>=2.15->tensorflow) (3.2.2)\n",
      "Using cached flatbuffers-23.5.26-py2.py3-none-any.whl (26 kB)\n",
      "Using cached libclang-16.0.6-py2.py3-none-manylinux2010_x86_64.whl (22.9 MB)\n",
      "Installing collected packages: libclang, flatbuffers\n",
      "Successfully installed flatbuffers-23.5.26 libclang-16.0.6\n",
      "Note: you may need to restart the kernel to use updated packages.\n"
     ]
    }
   ],
   "source": [
    "pip install tensorflow"
   ]
  },
  {
   "cell_type": "markdown",
   "id": "f410ae1b-2d52-424d-af19-e8d718d89e2b",
   "metadata": {},
   "source": [
    "Importing Libraries"
   ]
  },
  {
   "cell_type": "code",
   "execution_count": 3,
   "id": "c25ea5bf-b816-49a2-aef4-1f0fa92856ba",
   "metadata": {},
   "outputs": [],
   "source": [
    "from google.cloud import bigquery\n",
    "import yfinance as yf\n",
    "import seaborn as sns\n",
    "import matplotlib.pyplot as plt\n",
    "import pandas as pd\n",
    "import numpy as np\n",
    "from google.cloud import bigquery\n",
    "\n"
   ]
  },
  {
   "cell_type": "code",
   "execution_count": null,
   "id": "711266f2-d3c4-4c96-85c7-4c9f931b1f2b",
   "metadata": {},
   "outputs": [],
   "source": []
  },
  {
   "cell_type": "markdown",
   "id": "60817532-133b-4c9c-8c30-e3b17ab0f5e0",
   "metadata": {},
   "source": [
    "Downloading the dataset from yfinance API and data is stored in Big Query"
   ]
  },
  {
   "cell_type": "markdown",
   "id": "320dcd70-6d73-4e97-955c-f0ed4076be98",
   "metadata": {},
   "source": [
    "def Download_Dataset(stocks):\n",
    "    df_stocks = yf.download(stocks, start='2018-01-01', end='2023-11-26')\n",
    "    df_stocks = df_stocks.reset_index()\n",
    "    df_stocks['Date'] = df_stocks['Date'].dt.strftime('%Y-%m-%d')\n",
    "    df_stocks.insert(0, 'Stock', stocks)\n",
    "    rows_to_insert = df_stocks.to_dict(orient='records')\n",
    "    \n",
    "    errors = client.insert_rows_json(\"serene-coyote-399200.Stock_Data.Stock_dataset\", rows_to_insert)  # Make an API request.\n",
    "    if errors == []:\n",
    "        print(\"New rows have been added.\")\n",
    "    else:\n",
    "        print(\"Encountered errors while inserting rows: {}\".format(errors))\n",
    "        \n",
    "client = bigquery.Client()    \n",
    "stocks_list=['AAPL','GOOGL','NVDA']\n",
    "for stocks in stocks_list:\n",
    "    Download_Dataset(stocks)"
   ]
  },
  {
   "cell_type": "code",
   "execution_count": 4,
   "id": "19247ad4-00a4-43e9-b0a0-e9fb0f85b3d6",
   "metadata": {},
   "outputs": [
    {
     "name": "stdout",
     "output_type": "stream",
     "text": [
      "[*********************100%%**********************]  1 of 1 completed\n"
     ]
    },
    {
     "data": {
      "text/html": [
       "<div>\n",
       "<style scoped>\n",
       "    .dataframe tbody tr th:only-of-type {\n",
       "        vertical-align: middle;\n",
       "    }\n",
       "\n",
       "    .dataframe tbody tr th {\n",
       "        vertical-align: top;\n",
       "    }\n",
       "\n",
       "    .dataframe thead th {\n",
       "        text-align: right;\n",
       "    }\n",
       "</style>\n",
       "<table border=\"1\" class=\"dataframe\">\n",
       "  <thead>\n",
       "    <tr style=\"text-align: right;\">\n",
       "      <th></th>\n",
       "      <th>Stock</th>\n",
       "      <th>Date</th>\n",
       "      <th>Open</th>\n",
       "      <th>High</th>\n",
       "      <th>Low</th>\n",
       "      <th>Close</th>\n",
       "      <th>Adj Close</th>\n",
       "      <th>Volume</th>\n",
       "    </tr>\n",
       "  </thead>\n",
       "  <tbody>\n",
       "    <tr>\n",
       "      <th>0</th>\n",
       "      <td>AAPL</td>\n",
       "      <td>2018-01-02</td>\n",
       "      <td>42.540001</td>\n",
       "      <td>43.075001</td>\n",
       "      <td>42.314999</td>\n",
       "      <td>43.064999</td>\n",
       "      <td>40.722870</td>\n",
       "      <td>102223600</td>\n",
       "    </tr>\n",
       "    <tr>\n",
       "      <th>1</th>\n",
       "      <td>AAPL</td>\n",
       "      <td>2018-01-03</td>\n",
       "      <td>43.132500</td>\n",
       "      <td>43.637501</td>\n",
       "      <td>42.990002</td>\n",
       "      <td>43.057499</td>\n",
       "      <td>40.715786</td>\n",
       "      <td>118071600</td>\n",
       "    </tr>\n",
       "    <tr>\n",
       "      <th>2</th>\n",
       "      <td>AAPL</td>\n",
       "      <td>2018-01-04</td>\n",
       "      <td>43.134998</td>\n",
       "      <td>43.367500</td>\n",
       "      <td>43.020000</td>\n",
       "      <td>43.257500</td>\n",
       "      <td>40.904907</td>\n",
       "      <td>89738400</td>\n",
       "    </tr>\n",
       "    <tr>\n",
       "      <th>3</th>\n",
       "      <td>AAPL</td>\n",
       "      <td>2018-01-05</td>\n",
       "      <td>43.360001</td>\n",
       "      <td>43.842499</td>\n",
       "      <td>43.262501</td>\n",
       "      <td>43.750000</td>\n",
       "      <td>41.370621</td>\n",
       "      <td>94640000</td>\n",
       "    </tr>\n",
       "    <tr>\n",
       "      <th>4</th>\n",
       "      <td>AAPL</td>\n",
       "      <td>2018-01-08</td>\n",
       "      <td>43.587502</td>\n",
       "      <td>43.902500</td>\n",
       "      <td>43.482498</td>\n",
       "      <td>43.587502</td>\n",
       "      <td>41.216965</td>\n",
       "      <td>82271200</td>\n",
       "    </tr>\n",
       "    <tr>\n",
       "      <th>...</th>\n",
       "      <td>...</td>\n",
       "      <td>...</td>\n",
       "      <td>...</td>\n",
       "      <td>...</td>\n",
       "      <td>...</td>\n",
       "      <td>...</td>\n",
       "      <td>...</td>\n",
       "      <td>...</td>\n",
       "    </tr>\n",
       "    <tr>\n",
       "      <th>4450</th>\n",
       "      <td>NVDA</td>\n",
       "      <td>2023-11-17</td>\n",
       "      <td>495.239990</td>\n",
       "      <td>497.170013</td>\n",
       "      <td>490.070007</td>\n",
       "      <td>492.980011</td>\n",
       "      <td>492.980011</td>\n",
       "      <td>32520500</td>\n",
       "    </tr>\n",
       "    <tr>\n",
       "      <th>4451</th>\n",
       "      <td>NVDA</td>\n",
       "      <td>2023-11-20</td>\n",
       "      <td>493.119995</td>\n",
       "      <td>505.480011</td>\n",
       "      <td>491.809998</td>\n",
       "      <td>504.089996</td>\n",
       "      <td>504.089996</td>\n",
       "      <td>41412000</td>\n",
       "    </tr>\n",
       "    <tr>\n",
       "      <th>4452</th>\n",
       "      <td>NVDA</td>\n",
       "      <td>2023-11-21</td>\n",
       "      <td>501.260010</td>\n",
       "      <td>505.170013</td>\n",
       "      <td>492.220001</td>\n",
       "      <td>499.440002</td>\n",
       "      <td>499.440002</td>\n",
       "      <td>56574700</td>\n",
       "    </tr>\n",
       "    <tr>\n",
       "      <th>4453</th>\n",
       "      <td>NVDA</td>\n",
       "      <td>2023-11-22</td>\n",
       "      <td>498.519989</td>\n",
       "      <td>503.350006</td>\n",
       "      <td>476.899994</td>\n",
       "      <td>487.160004</td>\n",
       "      <td>487.160004</td>\n",
       "      <td>89942000</td>\n",
       "    </tr>\n",
       "    <tr>\n",
       "      <th>4454</th>\n",
       "      <td>NVDA</td>\n",
       "      <td>2023-11-24</td>\n",
       "      <td>484.700012</td>\n",
       "      <td>489.209991</td>\n",
       "      <td>477.450012</td>\n",
       "      <td>477.760010</td>\n",
       "      <td>477.760010</td>\n",
       "      <td>29464500</td>\n",
       "    </tr>\n",
       "  </tbody>\n",
       "</table>\n",
       "<p>4455 rows × 8 columns</p>\n",
       "</div>"
      ],
      "text/plain": [
       "     Stock        Date        Open        High         Low       Close  \\\n",
       "0     AAPL  2018-01-02   42.540001   43.075001   42.314999   43.064999   \n",
       "1     AAPL  2018-01-03   43.132500   43.637501   42.990002   43.057499   \n",
       "2     AAPL  2018-01-04   43.134998   43.367500   43.020000   43.257500   \n",
       "3     AAPL  2018-01-05   43.360001   43.842499   43.262501   43.750000   \n",
       "4     AAPL  2018-01-08   43.587502   43.902500   43.482498   43.587502   \n",
       "...    ...         ...         ...         ...         ...         ...   \n",
       "4450  NVDA  2023-11-17  495.239990  497.170013  490.070007  492.980011   \n",
       "4451  NVDA  2023-11-20  493.119995  505.480011  491.809998  504.089996   \n",
       "4452  NVDA  2023-11-21  501.260010  505.170013  492.220001  499.440002   \n",
       "4453  NVDA  2023-11-22  498.519989  503.350006  476.899994  487.160004   \n",
       "4454  NVDA  2023-11-24  484.700012  489.209991  477.450012  477.760010   \n",
       "\n",
       "       Adj Close     Volume  \n",
       "0      40.722870  102223600  \n",
       "1      40.715786  118071600  \n",
       "2      40.904907   89738400  \n",
       "3      41.370621   94640000  \n",
       "4      41.216965   82271200  \n",
       "...          ...        ...  \n",
       "4450  492.980011   32520500  \n",
       "4451  504.089996   41412000  \n",
       "4452  499.440002   56574700  \n",
       "4453  487.160004   89942000  \n",
       "4454  477.760010   29464500  \n",
       "\n",
       "[4455 rows x 8 columns]"
      ]
     },
     "execution_count": 4,
     "metadata": {},
     "output_type": "execute_result"
    }
   ],
   "source": [
    "\n",
    "client = bigquery.Client() \n",
    "df_stocks = yf.download('AAPL', start='2018-01-01', end='2023-10-20')\n",
    "query = \"\"\" SELECT * FROM `serene-coyote-399200.Stock_Data.Stock_dataset` \"\"\"\n",
    "df_stocks = client.query(query).to_dataframe()\n",
    "df_stocks"
   ]
  },
  {
   "cell_type": "code",
   "execution_count": 5,
   "id": "9ccccc5b-d947-480b-b0c8-932eb75bc7fa",
   "metadata": {},
   "outputs": [
    {
     "data": {
      "text/plain": [
       "(4455, 8)"
      ]
     },
     "execution_count": 5,
     "metadata": {},
     "output_type": "execute_result"
    }
   ],
   "source": [
    "df_stocks.shape"
   ]
  },
  {
   "cell_type": "code",
   "execution_count": 6,
   "id": "d5f936ea-dd79-4798-8354-4e7cc285f9e8",
   "metadata": {},
   "outputs": [
    {
     "name": "stdout",
     "output_type": "stream",
     "text": [
      "<class 'pandas.core.frame.DataFrame'>\n",
      "RangeIndex: 4455 entries, 0 to 4454\n",
      "Data columns (total 8 columns):\n",
      " #   Column     Non-Null Count  Dtype  \n",
      "---  ------     --------------  -----  \n",
      " 0   Stock      4455 non-null   object \n",
      " 1   Date       4455 non-null   object \n",
      " 2   Open       4455 non-null   float64\n",
      " 3   High       4455 non-null   float64\n",
      " 4   Low        4455 non-null   float64\n",
      " 5   Close      4455 non-null   float64\n",
      " 6   Adj Close  4455 non-null   float64\n",
      " 7   Volume     4455 non-null   Int64  \n",
      "dtypes: Int64(1), float64(5), object(2)\n",
      "memory usage: 282.9+ KB\n"
     ]
    }
   ],
   "source": [
    "df_stocks.info()"
   ]
  },
  {
   "cell_type": "code",
   "execution_count": 7,
   "id": "b97b76ce-2acf-4350-9a86-bf83b5f19c90",
   "metadata": {},
   "outputs": [],
   "source": [
    "df_stocks['Date'] = pd.to_datetime(df_stocks['Date'], format='%Y-%m-%d')"
   ]
  },
  {
   "cell_type": "code",
   "execution_count": 8,
   "id": "c23475fd-ca91-4451-bb69-8d16c3c9679f",
   "metadata": {},
   "outputs": [
    {
     "name": "stdout",
     "output_type": "stream",
     "text": [
      "<class 'pandas.core.frame.DataFrame'>\n",
      "RangeIndex: 4455 entries, 0 to 4454\n",
      "Data columns (total 8 columns):\n",
      " #   Column     Non-Null Count  Dtype         \n",
      "---  ------     --------------  -----         \n",
      " 0   Stock      4455 non-null   object        \n",
      " 1   Date       4455 non-null   datetime64[ns]\n",
      " 2   Open       4455 non-null   float64       \n",
      " 3   High       4455 non-null   float64       \n",
      " 4   Low        4455 non-null   float64       \n",
      " 5   Close      4455 non-null   float64       \n",
      " 6   Adj Close  4455 non-null   float64       \n",
      " 7   Volume     4455 non-null   Int64         \n",
      "dtypes: Int64(1), datetime64[ns](1), float64(5), object(1)\n",
      "memory usage: 282.9+ KB\n"
     ]
    }
   ],
   "source": [
    "df_stocks.info()"
   ]
  },
  {
   "cell_type": "markdown",
   "id": "f7b3bf11-d81b-407d-851d-d4de860a437b",
   "metadata": {},
   "source": [
    "Data Visualization"
   ]
  },
  {
   "cell_type": "markdown",
   "id": "ee3a8806-64a9-49f2-a887-c906531527a3",
   "metadata": {},
   "source": [
    "AAPL"
   ]
  },
  {
   "cell_type": "code",
   "execution_count": 9,
   "id": "3216505f-2684-4511-9720-5205b5362ba8",
   "metadata": {},
   "outputs": [
    {
     "data": {
      "text/html": [
       "<div>\n",
       "<style scoped>\n",
       "    .dataframe tbody tr th:only-of-type {\n",
       "        vertical-align: middle;\n",
       "    }\n",
       "\n",
       "    .dataframe tbody tr th {\n",
       "        vertical-align: top;\n",
       "    }\n",
       "\n",
       "    .dataframe thead th {\n",
       "        text-align: right;\n",
       "    }\n",
       "</style>\n",
       "<table border=\"1\" class=\"dataframe\">\n",
       "  <thead>\n",
       "    <tr style=\"text-align: right;\">\n",
       "      <th></th>\n",
       "      <th>Stock</th>\n",
       "      <th>Date</th>\n",
       "      <th>Open</th>\n",
       "      <th>High</th>\n",
       "      <th>Low</th>\n",
       "      <th>Close</th>\n",
       "      <th>Adj Close</th>\n",
       "      <th>Volume</th>\n",
       "    </tr>\n",
       "  </thead>\n",
       "  <tbody>\n",
       "    <tr>\n",
       "      <th>0</th>\n",
       "      <td>AAPL</td>\n",
       "      <td>2018-01-02</td>\n",
       "      <td>42.540001</td>\n",
       "      <td>43.075001</td>\n",
       "      <td>42.314999</td>\n",
       "      <td>43.064999</td>\n",
       "      <td>40.722870</td>\n",
       "      <td>102223600</td>\n",
       "    </tr>\n",
       "    <tr>\n",
       "      <th>1</th>\n",
       "      <td>AAPL</td>\n",
       "      <td>2018-01-03</td>\n",
       "      <td>43.132500</td>\n",
       "      <td>43.637501</td>\n",
       "      <td>42.990002</td>\n",
       "      <td>43.057499</td>\n",
       "      <td>40.715786</td>\n",
       "      <td>118071600</td>\n",
       "    </tr>\n",
       "    <tr>\n",
       "      <th>2</th>\n",
       "      <td>AAPL</td>\n",
       "      <td>2018-01-04</td>\n",
       "      <td>43.134998</td>\n",
       "      <td>43.367500</td>\n",
       "      <td>43.020000</td>\n",
       "      <td>43.257500</td>\n",
       "      <td>40.904907</td>\n",
       "      <td>89738400</td>\n",
       "    </tr>\n",
       "    <tr>\n",
       "      <th>3</th>\n",
       "      <td>AAPL</td>\n",
       "      <td>2018-01-05</td>\n",
       "      <td>43.360001</td>\n",
       "      <td>43.842499</td>\n",
       "      <td>43.262501</td>\n",
       "      <td>43.750000</td>\n",
       "      <td>41.370621</td>\n",
       "      <td>94640000</td>\n",
       "    </tr>\n",
       "    <tr>\n",
       "      <th>4</th>\n",
       "      <td>AAPL</td>\n",
       "      <td>2018-01-08</td>\n",
       "      <td>43.587502</td>\n",
       "      <td>43.902500</td>\n",
       "      <td>43.482498</td>\n",
       "      <td>43.587502</td>\n",
       "      <td>41.216965</td>\n",
       "      <td>82271200</td>\n",
       "    </tr>\n",
       "    <tr>\n",
       "      <th>...</th>\n",
       "      <td>...</td>\n",
       "      <td>...</td>\n",
       "      <td>...</td>\n",
       "      <td>...</td>\n",
       "      <td>...</td>\n",
       "      <td>...</td>\n",
       "      <td>...</td>\n",
       "      <td>...</td>\n",
       "    </tr>\n",
       "    <tr>\n",
       "      <th>1480</th>\n",
       "      <td>AAPL</td>\n",
       "      <td>2023-11-17</td>\n",
       "      <td>190.250000</td>\n",
       "      <td>190.380005</td>\n",
       "      <td>188.570007</td>\n",
       "      <td>189.690002</td>\n",
       "      <td>189.690002</td>\n",
       "      <td>50922700</td>\n",
       "    </tr>\n",
       "    <tr>\n",
       "      <th>1481</th>\n",
       "      <td>AAPL</td>\n",
       "      <td>2023-11-20</td>\n",
       "      <td>189.889999</td>\n",
       "      <td>191.910004</td>\n",
       "      <td>189.880005</td>\n",
       "      <td>191.449997</td>\n",
       "      <td>191.449997</td>\n",
       "      <td>46505100</td>\n",
       "    </tr>\n",
       "    <tr>\n",
       "      <th>1482</th>\n",
       "      <td>AAPL</td>\n",
       "      <td>2023-11-21</td>\n",
       "      <td>191.410004</td>\n",
       "      <td>191.520004</td>\n",
       "      <td>189.740005</td>\n",
       "      <td>190.639999</td>\n",
       "      <td>190.639999</td>\n",
       "      <td>38134500</td>\n",
       "    </tr>\n",
       "    <tr>\n",
       "      <th>1483</th>\n",
       "      <td>AAPL</td>\n",
       "      <td>2023-11-22</td>\n",
       "      <td>191.490005</td>\n",
       "      <td>192.929993</td>\n",
       "      <td>190.830002</td>\n",
       "      <td>191.309998</td>\n",
       "      <td>191.309998</td>\n",
       "      <td>39617700</td>\n",
       "    </tr>\n",
       "    <tr>\n",
       "      <th>1484</th>\n",
       "      <td>AAPL</td>\n",
       "      <td>2023-11-24</td>\n",
       "      <td>190.869995</td>\n",
       "      <td>190.899994</td>\n",
       "      <td>189.250000</td>\n",
       "      <td>189.970001</td>\n",
       "      <td>189.970001</td>\n",
       "      <td>24048300</td>\n",
       "    </tr>\n",
       "  </tbody>\n",
       "</table>\n",
       "<p>1485 rows × 8 columns</p>\n",
       "</div>"
      ],
      "text/plain": [
       "     Stock       Date        Open        High         Low       Close  \\\n",
       "0     AAPL 2018-01-02   42.540001   43.075001   42.314999   43.064999   \n",
       "1     AAPL 2018-01-03   43.132500   43.637501   42.990002   43.057499   \n",
       "2     AAPL 2018-01-04   43.134998   43.367500   43.020000   43.257500   \n",
       "3     AAPL 2018-01-05   43.360001   43.842499   43.262501   43.750000   \n",
       "4     AAPL 2018-01-08   43.587502   43.902500   43.482498   43.587502   \n",
       "...    ...        ...         ...         ...         ...         ...   \n",
       "1480  AAPL 2023-11-17  190.250000  190.380005  188.570007  189.690002   \n",
       "1481  AAPL 2023-11-20  189.889999  191.910004  189.880005  191.449997   \n",
       "1482  AAPL 2023-11-21  191.410004  191.520004  189.740005  190.639999   \n",
       "1483  AAPL 2023-11-22  191.490005  192.929993  190.830002  191.309998   \n",
       "1484  AAPL 2023-11-24  190.869995  190.899994  189.250000  189.970001   \n",
       "\n",
       "       Adj Close     Volume  \n",
       "0      40.722870  102223600  \n",
       "1      40.715786  118071600  \n",
       "2      40.904907   89738400  \n",
       "3      41.370621   94640000  \n",
       "4      41.216965   82271200  \n",
       "...          ...        ...  \n",
       "1480  189.690002   50922700  \n",
       "1481  191.449997   46505100  \n",
       "1482  190.639999   38134500  \n",
       "1483  191.309998   39617700  \n",
       "1484  189.970001   24048300  \n",
       "\n",
       "[1485 rows x 8 columns]"
      ]
     },
     "execution_count": 9,
     "metadata": {},
     "output_type": "execute_result"
    }
   ],
   "source": [
    "df_apple_stocks = df_stocks.loc[df_stocks['Stock']=='AAPL']\n",
    "df_apple_stocks"
   ]
  },
  {
   "cell_type": "code",
   "execution_count": 10,
   "id": "931d0526-1151-42a0-a9b4-80b7b930e447",
   "metadata": {},
   "outputs": [
    {
     "data": {
      "text/html": [
       "<div>\n",
       "<style scoped>\n",
       "    .dataframe tbody tr th:only-of-type {\n",
       "        vertical-align: middle;\n",
       "    }\n",
       "\n",
       "    .dataframe tbody tr th {\n",
       "        vertical-align: top;\n",
       "    }\n",
       "\n",
       "    .dataframe thead th {\n",
       "        text-align: right;\n",
       "    }\n",
       "</style>\n",
       "<table border=\"1\" class=\"dataframe\">\n",
       "  <thead>\n",
       "    <tr style=\"text-align: right;\">\n",
       "      <th></th>\n",
       "      <th>Stock</th>\n",
       "      <th>Date</th>\n",
       "      <th>Open</th>\n",
       "      <th>High</th>\n",
       "      <th>Low</th>\n",
       "      <th>Close</th>\n",
       "      <th>Adj Close</th>\n",
       "      <th>Volume</th>\n",
       "    </tr>\n",
       "  </thead>\n",
       "  <tbody>\n",
       "    <tr>\n",
       "      <th>1485</th>\n",
       "      <td>GOOGL</td>\n",
       "      <td>2018-01-02</td>\n",
       "      <td>52.651001</td>\n",
       "      <td>53.799000</td>\n",
       "      <td>52.651001</td>\n",
       "      <td>53.660500</td>\n",
       "      <td>53.660500</td>\n",
       "      <td>31766000</td>\n",
       "    </tr>\n",
       "    <tr>\n",
       "      <th>1486</th>\n",
       "      <td>GOOGL</td>\n",
       "      <td>2018-01-03</td>\n",
       "      <td>53.696499</td>\n",
       "      <td>54.805000</td>\n",
       "      <td>53.671501</td>\n",
       "      <td>54.576000</td>\n",
       "      <td>54.576000</td>\n",
       "      <td>31318000</td>\n",
       "    </tr>\n",
       "    <tr>\n",
       "      <th>1487</th>\n",
       "      <td>GOOGL</td>\n",
       "      <td>2018-01-04</td>\n",
       "      <td>54.854500</td>\n",
       "      <td>55.203999</td>\n",
       "      <td>54.713001</td>\n",
       "      <td>54.787998</td>\n",
       "      <td>54.787998</td>\n",
       "      <td>26052000</td>\n",
       "    </tr>\n",
       "    <tr>\n",
       "      <th>1488</th>\n",
       "      <td>GOOGL</td>\n",
       "      <td>2018-01-05</td>\n",
       "      <td>55.172501</td>\n",
       "      <td>55.679001</td>\n",
       "      <td>55.090000</td>\n",
       "      <td>55.514500</td>\n",
       "      <td>55.514500</td>\n",
       "      <td>30250000</td>\n",
       "    </tr>\n",
       "    <tr>\n",
       "      <th>1489</th>\n",
       "      <td>GOOGL</td>\n",
       "      <td>2018-01-08</td>\n",
       "      <td>55.549999</td>\n",
       "      <td>55.958000</td>\n",
       "      <td>55.500000</td>\n",
       "      <td>55.710499</td>\n",
       "      <td>55.710499</td>\n",
       "      <td>24644000</td>\n",
       "    </tr>\n",
       "    <tr>\n",
       "      <th>...</th>\n",
       "      <td>...</td>\n",
       "      <td>...</td>\n",
       "      <td>...</td>\n",
       "      <td>...</td>\n",
       "      <td>...</td>\n",
       "      <td>...</td>\n",
       "      <td>...</td>\n",
       "      <td>...</td>\n",
       "    </tr>\n",
       "    <tr>\n",
       "      <th>2965</th>\n",
       "      <td>GOOGL</td>\n",
       "      <td>2023-11-17</td>\n",
       "      <td>136.000000</td>\n",
       "      <td>136.059998</td>\n",
       "      <td>133.649994</td>\n",
       "      <td>135.309998</td>\n",
       "      <td>135.309998</td>\n",
       "      <td>37240600</td>\n",
       "    </tr>\n",
       "    <tr>\n",
       "      <th>2966</th>\n",
       "      <td>GOOGL</td>\n",
       "      <td>2023-11-20</td>\n",
       "      <td>133.690002</td>\n",
       "      <td>136.660004</td>\n",
       "      <td>133.619995</td>\n",
       "      <td>136.250000</td>\n",
       "      <td>136.250000</td>\n",
       "      <td>27815500</td>\n",
       "    </tr>\n",
       "    <tr>\n",
       "      <th>2967</th>\n",
       "      <td>GOOGL</td>\n",
       "      <td>2023-11-21</td>\n",
       "      <td>136.289993</td>\n",
       "      <td>137.179993</td>\n",
       "      <td>135.960007</td>\n",
       "      <td>136.970001</td>\n",
       "      <td>136.970001</td>\n",
       "      <td>22635300</td>\n",
       "    </tr>\n",
       "    <tr>\n",
       "      <th>2968</th>\n",
       "      <td>GOOGL</td>\n",
       "      <td>2023-11-22</td>\n",
       "      <td>137.470001</td>\n",
       "      <td>139.419998</td>\n",
       "      <td>137.470001</td>\n",
       "      <td>138.490005</td>\n",
       "      <td>138.490005</td>\n",
       "      <td>17813900</td>\n",
       "    </tr>\n",
       "    <tr>\n",
       "      <th>2969</th>\n",
       "      <td>GOOGL</td>\n",
       "      <td>2023-11-24</td>\n",
       "      <td>138.029999</td>\n",
       "      <td>138.130005</td>\n",
       "      <td>135.990005</td>\n",
       "      <td>136.690002</td>\n",
       "      <td>136.690002</td>\n",
       "      <td>12514300</td>\n",
       "    </tr>\n",
       "  </tbody>\n",
       "</table>\n",
       "<p>1485 rows × 8 columns</p>\n",
       "</div>"
      ],
      "text/plain": [
       "      Stock       Date        Open        High         Low       Close  \\\n",
       "1485  GOOGL 2018-01-02   52.651001   53.799000   52.651001   53.660500   \n",
       "1486  GOOGL 2018-01-03   53.696499   54.805000   53.671501   54.576000   \n",
       "1487  GOOGL 2018-01-04   54.854500   55.203999   54.713001   54.787998   \n",
       "1488  GOOGL 2018-01-05   55.172501   55.679001   55.090000   55.514500   \n",
       "1489  GOOGL 2018-01-08   55.549999   55.958000   55.500000   55.710499   \n",
       "...     ...        ...         ...         ...         ...         ...   \n",
       "2965  GOOGL 2023-11-17  136.000000  136.059998  133.649994  135.309998   \n",
       "2966  GOOGL 2023-11-20  133.690002  136.660004  133.619995  136.250000   \n",
       "2967  GOOGL 2023-11-21  136.289993  137.179993  135.960007  136.970001   \n",
       "2968  GOOGL 2023-11-22  137.470001  139.419998  137.470001  138.490005   \n",
       "2969  GOOGL 2023-11-24  138.029999  138.130005  135.990005  136.690002   \n",
       "\n",
       "       Adj Close    Volume  \n",
       "1485   53.660500  31766000  \n",
       "1486   54.576000  31318000  \n",
       "1487   54.787998  26052000  \n",
       "1488   55.514500  30250000  \n",
       "1489   55.710499  24644000  \n",
       "...          ...       ...  \n",
       "2965  135.309998  37240600  \n",
       "2966  136.250000  27815500  \n",
       "2967  136.970001  22635300  \n",
       "2968  138.490005  17813900  \n",
       "2969  136.690002  12514300  \n",
       "\n",
       "[1485 rows x 8 columns]"
      ]
     },
     "execution_count": 10,
     "metadata": {},
     "output_type": "execute_result"
    }
   ],
   "source": [
    "df_google_stocks = df_stocks.loc[df_stocks['Stock']=='GOOGL']\n",
    "df_google_stocks\n"
   ]
  },
  {
   "cell_type": "code",
   "execution_count": 11,
   "id": "d3421343-ec91-4984-998f-460938594f21",
   "metadata": {},
   "outputs": [
    {
     "data": {
      "text/html": [
       "<div>\n",
       "<style scoped>\n",
       "    .dataframe tbody tr th:only-of-type {\n",
       "        vertical-align: middle;\n",
       "    }\n",
       "\n",
       "    .dataframe tbody tr th {\n",
       "        vertical-align: top;\n",
       "    }\n",
       "\n",
       "    .dataframe thead th {\n",
       "        text-align: right;\n",
       "    }\n",
       "</style>\n",
       "<table border=\"1\" class=\"dataframe\">\n",
       "  <thead>\n",
       "    <tr style=\"text-align: right;\">\n",
       "      <th></th>\n",
       "      <th>Stock</th>\n",
       "      <th>Date</th>\n",
       "      <th>Open</th>\n",
       "      <th>High</th>\n",
       "      <th>Low</th>\n",
       "      <th>Close</th>\n",
       "      <th>Adj Close</th>\n",
       "      <th>Volume</th>\n",
       "    </tr>\n",
       "  </thead>\n",
       "  <tbody>\n",
       "    <tr>\n",
       "      <th>2970</th>\n",
       "      <td>NVDA</td>\n",
       "      <td>2018-01-02</td>\n",
       "      <td>48.945000</td>\n",
       "      <td>49.875000</td>\n",
       "      <td>48.625000</td>\n",
       "      <td>49.837502</td>\n",
       "      <td>49.317123</td>\n",
       "      <td>35561600</td>\n",
       "    </tr>\n",
       "    <tr>\n",
       "      <th>2971</th>\n",
       "      <td>NVDA</td>\n",
       "      <td>2018-01-03</td>\n",
       "      <td>51.025002</td>\n",
       "      <td>53.424999</td>\n",
       "      <td>50.937500</td>\n",
       "      <td>53.117500</td>\n",
       "      <td>52.562878</td>\n",
       "      <td>91470400</td>\n",
       "    </tr>\n",
       "    <tr>\n",
       "      <th>2972</th>\n",
       "      <td>NVDA</td>\n",
       "      <td>2018-01-04</td>\n",
       "      <td>53.939999</td>\n",
       "      <td>54.512501</td>\n",
       "      <td>53.172501</td>\n",
       "      <td>53.397499</td>\n",
       "      <td>52.839951</td>\n",
       "      <td>58326800</td>\n",
       "    </tr>\n",
       "    <tr>\n",
       "      <th>2973</th>\n",
       "      <td>NVDA</td>\n",
       "      <td>2018-01-05</td>\n",
       "      <td>53.547501</td>\n",
       "      <td>54.227501</td>\n",
       "      <td>52.770000</td>\n",
       "      <td>53.849998</td>\n",
       "      <td>53.287724</td>\n",
       "      <td>58012400</td>\n",
       "    </tr>\n",
       "    <tr>\n",
       "      <th>2974</th>\n",
       "      <td>NVDA</td>\n",
       "      <td>2018-01-08</td>\n",
       "      <td>55.099998</td>\n",
       "      <td>56.250000</td>\n",
       "      <td>54.645000</td>\n",
       "      <td>55.500000</td>\n",
       "      <td>54.920494</td>\n",
       "      <td>88121600</td>\n",
       "    </tr>\n",
       "    <tr>\n",
       "      <th>...</th>\n",
       "      <td>...</td>\n",
       "      <td>...</td>\n",
       "      <td>...</td>\n",
       "      <td>...</td>\n",
       "      <td>...</td>\n",
       "      <td>...</td>\n",
       "      <td>...</td>\n",
       "      <td>...</td>\n",
       "    </tr>\n",
       "    <tr>\n",
       "      <th>4450</th>\n",
       "      <td>NVDA</td>\n",
       "      <td>2023-11-17</td>\n",
       "      <td>495.239990</td>\n",
       "      <td>497.170013</td>\n",
       "      <td>490.070007</td>\n",
       "      <td>492.980011</td>\n",
       "      <td>492.980011</td>\n",
       "      <td>32520500</td>\n",
       "    </tr>\n",
       "    <tr>\n",
       "      <th>4451</th>\n",
       "      <td>NVDA</td>\n",
       "      <td>2023-11-20</td>\n",
       "      <td>493.119995</td>\n",
       "      <td>505.480011</td>\n",
       "      <td>491.809998</td>\n",
       "      <td>504.089996</td>\n",
       "      <td>504.089996</td>\n",
       "      <td>41412000</td>\n",
       "    </tr>\n",
       "    <tr>\n",
       "      <th>4452</th>\n",
       "      <td>NVDA</td>\n",
       "      <td>2023-11-21</td>\n",
       "      <td>501.260010</td>\n",
       "      <td>505.170013</td>\n",
       "      <td>492.220001</td>\n",
       "      <td>499.440002</td>\n",
       "      <td>499.440002</td>\n",
       "      <td>56574700</td>\n",
       "    </tr>\n",
       "    <tr>\n",
       "      <th>4453</th>\n",
       "      <td>NVDA</td>\n",
       "      <td>2023-11-22</td>\n",
       "      <td>498.519989</td>\n",
       "      <td>503.350006</td>\n",
       "      <td>476.899994</td>\n",
       "      <td>487.160004</td>\n",
       "      <td>487.160004</td>\n",
       "      <td>89942000</td>\n",
       "    </tr>\n",
       "    <tr>\n",
       "      <th>4454</th>\n",
       "      <td>NVDA</td>\n",
       "      <td>2023-11-24</td>\n",
       "      <td>484.700012</td>\n",
       "      <td>489.209991</td>\n",
       "      <td>477.450012</td>\n",
       "      <td>477.760010</td>\n",
       "      <td>477.760010</td>\n",
       "      <td>29464500</td>\n",
       "    </tr>\n",
       "  </tbody>\n",
       "</table>\n",
       "<p>1485 rows × 8 columns</p>\n",
       "</div>"
      ],
      "text/plain": [
       "     Stock       Date        Open        High         Low       Close  \\\n",
       "2970  NVDA 2018-01-02   48.945000   49.875000   48.625000   49.837502   \n",
       "2971  NVDA 2018-01-03   51.025002   53.424999   50.937500   53.117500   \n",
       "2972  NVDA 2018-01-04   53.939999   54.512501   53.172501   53.397499   \n",
       "2973  NVDA 2018-01-05   53.547501   54.227501   52.770000   53.849998   \n",
       "2974  NVDA 2018-01-08   55.099998   56.250000   54.645000   55.500000   \n",
       "...    ...        ...         ...         ...         ...         ...   \n",
       "4450  NVDA 2023-11-17  495.239990  497.170013  490.070007  492.980011   \n",
       "4451  NVDA 2023-11-20  493.119995  505.480011  491.809998  504.089996   \n",
       "4452  NVDA 2023-11-21  501.260010  505.170013  492.220001  499.440002   \n",
       "4453  NVDA 2023-11-22  498.519989  503.350006  476.899994  487.160004   \n",
       "4454  NVDA 2023-11-24  484.700012  489.209991  477.450012  477.760010   \n",
       "\n",
       "       Adj Close    Volume  \n",
       "2970   49.317123  35561600  \n",
       "2971   52.562878  91470400  \n",
       "2972   52.839951  58326800  \n",
       "2973   53.287724  58012400  \n",
       "2974   54.920494  88121600  \n",
       "...          ...       ...  \n",
       "4450  492.980011  32520500  \n",
       "4451  504.089996  41412000  \n",
       "4452  499.440002  56574700  \n",
       "4453  487.160004  89942000  \n",
       "4454  477.760010  29464500  \n",
       "\n",
       "[1485 rows x 8 columns]"
      ]
     },
     "execution_count": 11,
     "metadata": {},
     "output_type": "execute_result"
    }
   ],
   "source": [
    "df_nvda_stocks = df_stocks.loc[df_stocks['Stock']=='NVDA']\n",
    "df_nvda_stocks"
   ]
  },
  {
   "cell_type": "code",
   "execution_count": 12,
   "id": "adf6f8e0-1060-458d-bed6-76c9db3ef31a",
   "metadata": {},
   "outputs": [
    {
     "data": {
      "text/plain": [
       "0        43.064999\n",
       "1        43.057499\n",
       "2        43.257500\n",
       "3        43.750000\n",
       "4        43.587502\n",
       "           ...    \n",
       "1480    189.690002\n",
       "1481    191.449997\n",
       "1482    190.639999\n",
       "1483    191.309998\n",
       "1484    189.970001\n",
       "Name: Close, Length: 1485, dtype: float64"
      ]
     },
     "execution_count": 12,
     "metadata": {},
     "output_type": "execute_result"
    }
   ],
   "source": [
    "# Take only close\n",
    "df_apple=df_apple_stocks.reset_index()['Close']\n",
    "df_apple"
   ]
  },
  {
   "cell_type": "markdown",
   "id": "9bdc37a1-7198-4a41-b267-86cb4bbf75d1",
   "metadata": {},
   "source": [
    "Linear "
   ]
  },
  {
   "cell_type": "code",
   "execution_count": 13,
   "id": "edaf31fd-43ee-4678-ab41-eb025a2250d1",
   "metadata": {},
   "outputs": [
    {
     "data": {
      "text/html": [
       "<div>\n",
       "<style scoped>\n",
       "    .dataframe tbody tr th:only-of-type {\n",
       "        vertical-align: middle;\n",
       "    }\n",
       "\n",
       "    .dataframe tbody tr th {\n",
       "        vertical-align: top;\n",
       "    }\n",
       "\n",
       "    .dataframe thead th {\n",
       "        text-align: right;\n",
       "    }\n",
       "</style>\n",
       "<table border=\"1\" class=\"dataframe\">\n",
       "  <thead>\n",
       "    <tr style=\"text-align: right;\">\n",
       "      <th></th>\n",
       "      <th>Stock</th>\n",
       "      <th>Date</th>\n",
       "      <th>Open</th>\n",
       "      <th>High</th>\n",
       "      <th>Low</th>\n",
       "      <th>Close</th>\n",
       "      <th>Adj Close</th>\n",
       "      <th>Volume</th>\n",
       "    </tr>\n",
       "  </thead>\n",
       "  <tbody>\n",
       "    <tr>\n",
       "      <th>0</th>\n",
       "      <td>AAPL</td>\n",
       "      <td>2018-01-02</td>\n",
       "      <td>42.540001</td>\n",
       "      <td>43.075001</td>\n",
       "      <td>42.314999</td>\n",
       "      <td>43.064999</td>\n",
       "      <td>40.722870</td>\n",
       "      <td>102223600</td>\n",
       "    </tr>\n",
       "    <tr>\n",
       "      <th>1</th>\n",
       "      <td>AAPL</td>\n",
       "      <td>2018-01-03</td>\n",
       "      <td>43.132500</td>\n",
       "      <td>43.637501</td>\n",
       "      <td>42.990002</td>\n",
       "      <td>43.057499</td>\n",
       "      <td>40.715786</td>\n",
       "      <td>118071600</td>\n",
       "    </tr>\n",
       "    <tr>\n",
       "      <th>2</th>\n",
       "      <td>AAPL</td>\n",
       "      <td>2018-01-04</td>\n",
       "      <td>43.134998</td>\n",
       "      <td>43.367500</td>\n",
       "      <td>43.020000</td>\n",
       "      <td>43.257500</td>\n",
       "      <td>40.904907</td>\n",
       "      <td>89738400</td>\n",
       "    </tr>\n",
       "    <tr>\n",
       "      <th>3</th>\n",
       "      <td>AAPL</td>\n",
       "      <td>2018-01-05</td>\n",
       "      <td>43.360001</td>\n",
       "      <td>43.842499</td>\n",
       "      <td>43.262501</td>\n",
       "      <td>43.750000</td>\n",
       "      <td>41.370621</td>\n",
       "      <td>94640000</td>\n",
       "    </tr>\n",
       "    <tr>\n",
       "      <th>4</th>\n",
       "      <td>AAPL</td>\n",
       "      <td>2018-01-08</td>\n",
       "      <td>43.587502</td>\n",
       "      <td>43.902500</td>\n",
       "      <td>43.482498</td>\n",
       "      <td>43.587502</td>\n",
       "      <td>41.216965</td>\n",
       "      <td>82271200</td>\n",
       "    </tr>\n",
       "    <tr>\n",
       "      <th>...</th>\n",
       "      <td>...</td>\n",
       "      <td>...</td>\n",
       "      <td>...</td>\n",
       "      <td>...</td>\n",
       "      <td>...</td>\n",
       "      <td>...</td>\n",
       "      <td>...</td>\n",
       "      <td>...</td>\n",
       "    </tr>\n",
       "    <tr>\n",
       "      <th>1480</th>\n",
       "      <td>AAPL</td>\n",
       "      <td>2023-11-17</td>\n",
       "      <td>190.250000</td>\n",
       "      <td>190.380005</td>\n",
       "      <td>188.570007</td>\n",
       "      <td>189.690002</td>\n",
       "      <td>189.690002</td>\n",
       "      <td>50922700</td>\n",
       "    </tr>\n",
       "    <tr>\n",
       "      <th>1481</th>\n",
       "      <td>AAPL</td>\n",
       "      <td>2023-11-20</td>\n",
       "      <td>189.889999</td>\n",
       "      <td>191.910004</td>\n",
       "      <td>189.880005</td>\n",
       "      <td>191.449997</td>\n",
       "      <td>191.449997</td>\n",
       "      <td>46505100</td>\n",
       "    </tr>\n",
       "    <tr>\n",
       "      <th>1482</th>\n",
       "      <td>AAPL</td>\n",
       "      <td>2023-11-21</td>\n",
       "      <td>191.410004</td>\n",
       "      <td>191.520004</td>\n",
       "      <td>189.740005</td>\n",
       "      <td>190.639999</td>\n",
       "      <td>190.639999</td>\n",
       "      <td>38134500</td>\n",
       "    </tr>\n",
       "    <tr>\n",
       "      <th>1483</th>\n",
       "      <td>AAPL</td>\n",
       "      <td>2023-11-22</td>\n",
       "      <td>191.490005</td>\n",
       "      <td>192.929993</td>\n",
       "      <td>190.830002</td>\n",
       "      <td>191.309998</td>\n",
       "      <td>191.309998</td>\n",
       "      <td>39617700</td>\n",
       "    </tr>\n",
       "    <tr>\n",
       "      <th>1484</th>\n",
       "      <td>AAPL</td>\n",
       "      <td>2023-11-24</td>\n",
       "      <td>190.869995</td>\n",
       "      <td>190.899994</td>\n",
       "      <td>189.250000</td>\n",
       "      <td>189.970001</td>\n",
       "      <td>189.970001</td>\n",
       "      <td>24048300</td>\n",
       "    </tr>\n",
       "  </tbody>\n",
       "</table>\n",
       "<p>1485 rows × 8 columns</p>\n",
       "</div>"
      ],
      "text/plain": [
       "     Stock       Date        Open        High         Low       Close  \\\n",
       "0     AAPL 2018-01-02   42.540001   43.075001   42.314999   43.064999   \n",
       "1     AAPL 2018-01-03   43.132500   43.637501   42.990002   43.057499   \n",
       "2     AAPL 2018-01-04   43.134998   43.367500   43.020000   43.257500   \n",
       "3     AAPL 2018-01-05   43.360001   43.842499   43.262501   43.750000   \n",
       "4     AAPL 2018-01-08   43.587502   43.902500   43.482498   43.587502   \n",
       "...    ...        ...         ...         ...         ...         ...   \n",
       "1480  AAPL 2023-11-17  190.250000  190.380005  188.570007  189.690002   \n",
       "1481  AAPL 2023-11-20  189.889999  191.910004  189.880005  191.449997   \n",
       "1482  AAPL 2023-11-21  191.410004  191.520004  189.740005  190.639999   \n",
       "1483  AAPL 2023-11-22  191.490005  192.929993  190.830002  191.309998   \n",
       "1484  AAPL 2023-11-24  190.869995  190.899994  189.250000  189.970001   \n",
       "\n",
       "       Adj Close     Volume  \n",
       "0      40.722870  102223600  \n",
       "1      40.715786  118071600  \n",
       "2      40.904907   89738400  \n",
       "3      41.370621   94640000  \n",
       "4      41.216965   82271200  \n",
       "...          ...        ...  \n",
       "1480  189.690002   50922700  \n",
       "1481  191.449997   46505100  \n",
       "1482  190.639999   38134500  \n",
       "1483  191.309998   39617700  \n",
       "1484  189.970001   24048300  \n",
       "\n",
       "[1485 rows x 8 columns]"
      ]
     },
     "execution_count": 13,
     "metadata": {},
     "output_type": "execute_result"
    }
   ],
   "source": [
    "df_apple_stocks"
   ]
  },
  {
   "cell_type": "code",
   "execution_count": 14,
   "id": "680139f5-00a8-4b45-9b7f-d9fced2decb2",
   "metadata": {},
   "outputs": [
    {
     "data": {
      "text/html": [
       "<div>\n",
       "<style scoped>\n",
       "    .dataframe tbody tr th:only-of-type {\n",
       "        vertical-align: middle;\n",
       "    }\n",
       "\n",
       "    .dataframe tbody tr th {\n",
       "        vertical-align: top;\n",
       "    }\n",
       "\n",
       "    .dataframe thead th {\n",
       "        text-align: right;\n",
       "    }\n",
       "</style>\n",
       "<table border=\"1\" class=\"dataframe\">\n",
       "  <thead>\n",
       "    <tr style=\"text-align: right;\">\n",
       "      <th></th>\n",
       "      <th>Stock</th>\n",
       "      <th>Date</th>\n",
       "      <th>Open</th>\n",
       "      <th>High</th>\n",
       "      <th>Low</th>\n",
       "      <th>Close</th>\n",
       "      <th>Adj Close</th>\n",
       "      <th>Volume</th>\n",
       "    </tr>\n",
       "  </thead>\n",
       "  <tbody>\n",
       "    <tr>\n",
       "      <th>1485</th>\n",
       "      <td>GOOGL</td>\n",
       "      <td>2018-01-02</td>\n",
       "      <td>52.651001</td>\n",
       "      <td>53.799000</td>\n",
       "      <td>52.651001</td>\n",
       "      <td>53.660500</td>\n",
       "      <td>53.660500</td>\n",
       "      <td>31766000</td>\n",
       "    </tr>\n",
       "    <tr>\n",
       "      <th>1486</th>\n",
       "      <td>GOOGL</td>\n",
       "      <td>2018-01-03</td>\n",
       "      <td>53.696499</td>\n",
       "      <td>54.805000</td>\n",
       "      <td>53.671501</td>\n",
       "      <td>54.576000</td>\n",
       "      <td>54.576000</td>\n",
       "      <td>31318000</td>\n",
       "    </tr>\n",
       "    <tr>\n",
       "      <th>1487</th>\n",
       "      <td>GOOGL</td>\n",
       "      <td>2018-01-04</td>\n",
       "      <td>54.854500</td>\n",
       "      <td>55.203999</td>\n",
       "      <td>54.713001</td>\n",
       "      <td>54.787998</td>\n",
       "      <td>54.787998</td>\n",
       "      <td>26052000</td>\n",
       "    </tr>\n",
       "    <tr>\n",
       "      <th>1488</th>\n",
       "      <td>GOOGL</td>\n",
       "      <td>2018-01-05</td>\n",
       "      <td>55.172501</td>\n",
       "      <td>55.679001</td>\n",
       "      <td>55.090000</td>\n",
       "      <td>55.514500</td>\n",
       "      <td>55.514500</td>\n",
       "      <td>30250000</td>\n",
       "    </tr>\n",
       "    <tr>\n",
       "      <th>1489</th>\n",
       "      <td>GOOGL</td>\n",
       "      <td>2018-01-08</td>\n",
       "      <td>55.549999</td>\n",
       "      <td>55.958000</td>\n",
       "      <td>55.500000</td>\n",
       "      <td>55.710499</td>\n",
       "      <td>55.710499</td>\n",
       "      <td>24644000</td>\n",
       "    </tr>\n",
       "    <tr>\n",
       "      <th>...</th>\n",
       "      <td>...</td>\n",
       "      <td>...</td>\n",
       "      <td>...</td>\n",
       "      <td>...</td>\n",
       "      <td>...</td>\n",
       "      <td>...</td>\n",
       "      <td>...</td>\n",
       "      <td>...</td>\n",
       "    </tr>\n",
       "    <tr>\n",
       "      <th>2965</th>\n",
       "      <td>GOOGL</td>\n",
       "      <td>2023-11-17</td>\n",
       "      <td>136.000000</td>\n",
       "      <td>136.059998</td>\n",
       "      <td>133.649994</td>\n",
       "      <td>135.309998</td>\n",
       "      <td>135.309998</td>\n",
       "      <td>37240600</td>\n",
       "    </tr>\n",
       "    <tr>\n",
       "      <th>2966</th>\n",
       "      <td>GOOGL</td>\n",
       "      <td>2023-11-20</td>\n",
       "      <td>133.690002</td>\n",
       "      <td>136.660004</td>\n",
       "      <td>133.619995</td>\n",
       "      <td>136.250000</td>\n",
       "      <td>136.250000</td>\n",
       "      <td>27815500</td>\n",
       "    </tr>\n",
       "    <tr>\n",
       "      <th>2967</th>\n",
       "      <td>GOOGL</td>\n",
       "      <td>2023-11-21</td>\n",
       "      <td>136.289993</td>\n",
       "      <td>137.179993</td>\n",
       "      <td>135.960007</td>\n",
       "      <td>136.970001</td>\n",
       "      <td>136.970001</td>\n",
       "      <td>22635300</td>\n",
       "    </tr>\n",
       "    <tr>\n",
       "      <th>2968</th>\n",
       "      <td>GOOGL</td>\n",
       "      <td>2023-11-22</td>\n",
       "      <td>137.470001</td>\n",
       "      <td>139.419998</td>\n",
       "      <td>137.470001</td>\n",
       "      <td>138.490005</td>\n",
       "      <td>138.490005</td>\n",
       "      <td>17813900</td>\n",
       "    </tr>\n",
       "    <tr>\n",
       "      <th>2969</th>\n",
       "      <td>GOOGL</td>\n",
       "      <td>2023-11-24</td>\n",
       "      <td>138.029999</td>\n",
       "      <td>138.130005</td>\n",
       "      <td>135.990005</td>\n",
       "      <td>136.690002</td>\n",
       "      <td>136.690002</td>\n",
       "      <td>12514300</td>\n",
       "    </tr>\n",
       "  </tbody>\n",
       "</table>\n",
       "<p>1485 rows × 8 columns</p>\n",
       "</div>"
      ],
      "text/plain": [
       "      Stock       Date        Open        High         Low       Close  \\\n",
       "1485  GOOGL 2018-01-02   52.651001   53.799000   52.651001   53.660500   \n",
       "1486  GOOGL 2018-01-03   53.696499   54.805000   53.671501   54.576000   \n",
       "1487  GOOGL 2018-01-04   54.854500   55.203999   54.713001   54.787998   \n",
       "1488  GOOGL 2018-01-05   55.172501   55.679001   55.090000   55.514500   \n",
       "1489  GOOGL 2018-01-08   55.549999   55.958000   55.500000   55.710499   \n",
       "...     ...        ...         ...         ...         ...         ...   \n",
       "2965  GOOGL 2023-11-17  136.000000  136.059998  133.649994  135.309998   \n",
       "2966  GOOGL 2023-11-20  133.690002  136.660004  133.619995  136.250000   \n",
       "2967  GOOGL 2023-11-21  136.289993  137.179993  135.960007  136.970001   \n",
       "2968  GOOGL 2023-11-22  137.470001  139.419998  137.470001  138.490005   \n",
       "2969  GOOGL 2023-11-24  138.029999  138.130005  135.990005  136.690002   \n",
       "\n",
       "       Adj Close    Volume  \n",
       "1485   53.660500  31766000  \n",
       "1486   54.576000  31318000  \n",
       "1487   54.787998  26052000  \n",
       "1488   55.514500  30250000  \n",
       "1489   55.710499  24644000  \n",
       "...          ...       ...  \n",
       "2965  135.309998  37240600  \n",
       "2966  136.250000  27815500  \n",
       "2967  136.970001  22635300  \n",
       "2968  138.490005  17813900  \n",
       "2969  136.690002  12514300  \n",
       "\n",
       "[1485 rows x 8 columns]"
      ]
     },
     "execution_count": 14,
     "metadata": {},
     "output_type": "execute_result"
    }
   ],
   "source": [
    "df_google_stocks"
   ]
  },
  {
   "cell_type": "code",
   "execution_count": 15,
   "id": "b3ffb101-6fc1-485f-ae9c-ff4897528010",
   "metadata": {},
   "outputs": [],
   "source": [
    "df_apple_stocks_linear  = df_apple_stocks.drop(['Stock', 'Open','High','Low','Adj Close', 'Volume'],axis = 1)"
   ]
  },
  {
   "cell_type": "code",
   "execution_count": 16,
   "id": "ccaeb52a-c40f-4aac-8605-c9b4e32f1fcd",
   "metadata": {},
   "outputs": [
    {
     "data": {
      "text/html": [
       "<div>\n",
       "<style scoped>\n",
       "    .dataframe tbody tr th:only-of-type {\n",
       "        vertical-align: middle;\n",
       "    }\n",
       "\n",
       "    .dataframe tbody tr th {\n",
       "        vertical-align: top;\n",
       "    }\n",
       "\n",
       "    .dataframe thead th {\n",
       "        text-align: right;\n",
       "    }\n",
       "</style>\n",
       "<table border=\"1\" class=\"dataframe\">\n",
       "  <thead>\n",
       "    <tr style=\"text-align: right;\">\n",
       "      <th></th>\n",
       "      <th>Date</th>\n",
       "      <th>Close</th>\n",
       "    </tr>\n",
       "  </thead>\n",
       "  <tbody>\n",
       "    <tr>\n",
       "      <th>0</th>\n",
       "      <td>2018-01-02</td>\n",
       "      <td>43.064999</td>\n",
       "    </tr>\n",
       "    <tr>\n",
       "      <th>1</th>\n",
       "      <td>2018-01-03</td>\n",
       "      <td>43.057499</td>\n",
       "    </tr>\n",
       "    <tr>\n",
       "      <th>2</th>\n",
       "      <td>2018-01-04</td>\n",
       "      <td>43.257500</td>\n",
       "    </tr>\n",
       "    <tr>\n",
       "      <th>3</th>\n",
       "      <td>2018-01-05</td>\n",
       "      <td>43.750000</td>\n",
       "    </tr>\n",
       "    <tr>\n",
       "      <th>4</th>\n",
       "      <td>2018-01-08</td>\n",
       "      <td>43.587502</td>\n",
       "    </tr>\n",
       "    <tr>\n",
       "      <th>...</th>\n",
       "      <td>...</td>\n",
       "      <td>...</td>\n",
       "    </tr>\n",
       "    <tr>\n",
       "      <th>1480</th>\n",
       "      <td>2023-11-17</td>\n",
       "      <td>189.690002</td>\n",
       "    </tr>\n",
       "    <tr>\n",
       "      <th>1481</th>\n",
       "      <td>2023-11-20</td>\n",
       "      <td>191.449997</td>\n",
       "    </tr>\n",
       "    <tr>\n",
       "      <th>1482</th>\n",
       "      <td>2023-11-21</td>\n",
       "      <td>190.639999</td>\n",
       "    </tr>\n",
       "    <tr>\n",
       "      <th>1483</th>\n",
       "      <td>2023-11-22</td>\n",
       "      <td>191.309998</td>\n",
       "    </tr>\n",
       "    <tr>\n",
       "      <th>1484</th>\n",
       "      <td>2023-11-24</td>\n",
       "      <td>189.970001</td>\n",
       "    </tr>\n",
       "  </tbody>\n",
       "</table>\n",
       "<p>1485 rows × 2 columns</p>\n",
       "</div>"
      ],
      "text/plain": [
       "           Date       Close\n",
       "0    2018-01-02   43.064999\n",
       "1    2018-01-03   43.057499\n",
       "2    2018-01-04   43.257500\n",
       "3    2018-01-05   43.750000\n",
       "4    2018-01-08   43.587502\n",
       "...         ...         ...\n",
       "1480 2023-11-17  189.690002\n",
       "1481 2023-11-20  191.449997\n",
       "1482 2023-11-21  190.639999\n",
       "1483 2023-11-22  191.309998\n",
       "1484 2023-11-24  189.970001\n",
       "\n",
       "[1485 rows x 2 columns]"
      ]
     },
     "execution_count": 16,
     "metadata": {},
     "output_type": "execute_result"
    }
   ],
   "source": [
    "df_apple_stocks_linear"
   ]
  },
  {
   "cell_type": "code",
   "execution_count": 17,
   "id": "36f0b60e-ea45-47c7-a76b-1aebf9fbbec7",
   "metadata": {},
   "outputs": [],
   "source": [
    "df_apple_stocks_linear['Date'] = pd.to_datetime(df_apple_stocks_linear.Date,format='%Y-%m-%d')\n",
    "df_apple_stocks_linear.index = df_apple_stocks_linear['Date']\n",
    "\n",
    "#sorting\n",
    "data = df_apple_stocks_linear.sort_index(ascending=True, axis=0)"
   ]
  },
  {
   "cell_type": "code",
   "execution_count": 18,
   "id": "32b8bf10-ca69-4a79-a26f-68547cb1a91b",
   "metadata": {},
   "outputs": [],
   "source": [
    "df_apple_stocks_linear['Days'] = (df_apple_stocks_linear['Date'] - df_apple_stocks_linear['Date'].min()).dt.days"
   ]
  },
  {
   "cell_type": "code",
   "execution_count": 19,
   "id": "44b14e37-6edb-421e-8dcd-737e415b4b72",
   "metadata": {},
   "outputs": [],
   "source": [
    "df_apple_stocks_linear.set_index('Date',inplace = True)"
   ]
  },
  {
   "cell_type": "code",
   "execution_count": 20,
   "id": "2d3ef781-23b3-4a8d-b562-2f2dc23647cf",
   "metadata": {},
   "outputs": [
    {
     "data": {
      "text/html": [
       "<div>\n",
       "<style scoped>\n",
       "    .dataframe tbody tr th:only-of-type {\n",
       "        vertical-align: middle;\n",
       "    }\n",
       "\n",
       "    .dataframe tbody tr th {\n",
       "        vertical-align: top;\n",
       "    }\n",
       "\n",
       "    .dataframe thead th {\n",
       "        text-align: right;\n",
       "    }\n",
       "</style>\n",
       "<table border=\"1\" class=\"dataframe\">\n",
       "  <thead>\n",
       "    <tr style=\"text-align: right;\">\n",
       "      <th></th>\n",
       "      <th>Close</th>\n",
       "      <th>Days</th>\n",
       "    </tr>\n",
       "    <tr>\n",
       "      <th>Date</th>\n",
       "      <th></th>\n",
       "      <th></th>\n",
       "    </tr>\n",
       "  </thead>\n",
       "  <tbody>\n",
       "    <tr>\n",
       "      <th>2018-01-02</th>\n",
       "      <td>43.064999</td>\n",
       "      <td>0</td>\n",
       "    </tr>\n",
       "    <tr>\n",
       "      <th>2018-01-03</th>\n",
       "      <td>43.057499</td>\n",
       "      <td>1</td>\n",
       "    </tr>\n",
       "    <tr>\n",
       "      <th>2018-01-04</th>\n",
       "      <td>43.257500</td>\n",
       "      <td>2</td>\n",
       "    </tr>\n",
       "    <tr>\n",
       "      <th>2018-01-05</th>\n",
       "      <td>43.750000</td>\n",
       "      <td>3</td>\n",
       "    </tr>\n",
       "    <tr>\n",
       "      <th>2018-01-08</th>\n",
       "      <td>43.587502</td>\n",
       "      <td>6</td>\n",
       "    </tr>\n",
       "    <tr>\n",
       "      <th>...</th>\n",
       "      <td>...</td>\n",
       "      <td>...</td>\n",
       "    </tr>\n",
       "    <tr>\n",
       "      <th>2023-11-17</th>\n",
       "      <td>189.690002</td>\n",
       "      <td>2145</td>\n",
       "    </tr>\n",
       "    <tr>\n",
       "      <th>2023-11-20</th>\n",
       "      <td>191.449997</td>\n",
       "      <td>2148</td>\n",
       "    </tr>\n",
       "    <tr>\n",
       "      <th>2023-11-21</th>\n",
       "      <td>190.639999</td>\n",
       "      <td>2149</td>\n",
       "    </tr>\n",
       "    <tr>\n",
       "      <th>2023-11-22</th>\n",
       "      <td>191.309998</td>\n",
       "      <td>2150</td>\n",
       "    </tr>\n",
       "    <tr>\n",
       "      <th>2023-11-24</th>\n",
       "      <td>189.970001</td>\n",
       "      <td>2152</td>\n",
       "    </tr>\n",
       "  </tbody>\n",
       "</table>\n",
       "<p>1485 rows × 2 columns</p>\n",
       "</div>"
      ],
      "text/plain": [
       "                 Close  Days\n",
       "Date                        \n",
       "2018-01-02   43.064999     0\n",
       "2018-01-03   43.057499     1\n",
       "2018-01-04   43.257500     2\n",
       "2018-01-05   43.750000     3\n",
       "2018-01-08   43.587502     6\n",
       "...                ...   ...\n",
       "2023-11-17  189.690002  2145\n",
       "2023-11-20  191.449997  2148\n",
       "2023-11-21  190.639999  2149\n",
       "2023-11-22  191.309998  2150\n",
       "2023-11-24  189.970001  2152\n",
       "\n",
       "[1485 rows x 2 columns]"
      ]
     },
     "execution_count": 20,
     "metadata": {},
     "output_type": "execute_result"
    }
   ],
   "source": [
    "df_apple_stocks_linear"
   ]
  },
  {
   "cell_type": "code",
   "execution_count": 21,
   "id": "a6a01f61-495f-4b8f-aaf3-111086efae48",
   "metadata": {},
   "outputs": [],
   "source": [
    "train_linear = df_apple_stocks_linear.iloc[:-100]\n",
    "test_linear = df_apple_stocks_linear.iloc[-100:]"
   ]
  },
  {
   "cell_type": "code",
   "execution_count": 22,
   "id": "f2e1a3a5-a594-4ed0-83e1-e5efe3f5ce9a",
   "metadata": {},
   "outputs": [
    {
     "data": {
      "text/html": [
       "<style>#sk-container-id-1 {color: black;}#sk-container-id-1 pre{padding: 0;}#sk-container-id-1 div.sk-toggleable {background-color: white;}#sk-container-id-1 label.sk-toggleable__label {cursor: pointer;display: block;width: 100%;margin-bottom: 0;padding: 0.3em;box-sizing: border-box;text-align: center;}#sk-container-id-1 label.sk-toggleable__label-arrow:before {content: \"▸\";float: left;margin-right: 0.25em;color: #696969;}#sk-container-id-1 label.sk-toggleable__label-arrow:hover:before {color: black;}#sk-container-id-1 div.sk-estimator:hover label.sk-toggleable__label-arrow:before {color: black;}#sk-container-id-1 div.sk-toggleable__content {max-height: 0;max-width: 0;overflow: hidden;text-align: left;background-color: #f0f8ff;}#sk-container-id-1 div.sk-toggleable__content pre {margin: 0.2em;color: black;border-radius: 0.25em;background-color: #f0f8ff;}#sk-container-id-1 input.sk-toggleable__control:checked~div.sk-toggleable__content {max-height: 200px;max-width: 100%;overflow: auto;}#sk-container-id-1 input.sk-toggleable__control:checked~label.sk-toggleable__label-arrow:before {content: \"▾\";}#sk-container-id-1 div.sk-estimator input.sk-toggleable__control:checked~label.sk-toggleable__label {background-color: #d4ebff;}#sk-container-id-1 div.sk-label input.sk-toggleable__control:checked~label.sk-toggleable__label {background-color: #d4ebff;}#sk-container-id-1 input.sk-hidden--visually {border: 0;clip: rect(1px 1px 1px 1px);clip: rect(1px, 1px, 1px, 1px);height: 1px;margin: -1px;overflow: hidden;padding: 0;position: absolute;width: 1px;}#sk-container-id-1 div.sk-estimator {font-family: monospace;background-color: #f0f8ff;border: 1px dotted black;border-radius: 0.25em;box-sizing: border-box;margin-bottom: 0.5em;}#sk-container-id-1 div.sk-estimator:hover {background-color: #d4ebff;}#sk-container-id-1 div.sk-parallel-item::after {content: \"\";width: 100%;border-bottom: 1px solid gray;flex-grow: 1;}#sk-container-id-1 div.sk-label:hover label.sk-toggleable__label {background-color: #d4ebff;}#sk-container-id-1 div.sk-serial::before {content: \"\";position: absolute;border-left: 1px solid gray;box-sizing: border-box;top: 0;bottom: 0;left: 50%;z-index: 0;}#sk-container-id-1 div.sk-serial {display: flex;flex-direction: column;align-items: center;background-color: white;padding-right: 0.2em;padding-left: 0.2em;position: relative;}#sk-container-id-1 div.sk-item {position: relative;z-index: 1;}#sk-container-id-1 div.sk-parallel {display: flex;align-items: stretch;justify-content: center;background-color: white;position: relative;}#sk-container-id-1 div.sk-item::before, #sk-container-id-1 div.sk-parallel-item::before {content: \"\";position: absolute;border-left: 1px solid gray;box-sizing: border-box;top: 0;bottom: 0;left: 50%;z-index: -1;}#sk-container-id-1 div.sk-parallel-item {display: flex;flex-direction: column;z-index: 1;position: relative;background-color: white;}#sk-container-id-1 div.sk-parallel-item:first-child::after {align-self: flex-end;width: 50%;}#sk-container-id-1 div.sk-parallel-item:last-child::after {align-self: flex-start;width: 50%;}#sk-container-id-1 div.sk-parallel-item:only-child::after {width: 0;}#sk-container-id-1 div.sk-dashed-wrapped {border: 1px dashed gray;margin: 0 0.4em 0.5em 0.4em;box-sizing: border-box;padding-bottom: 0.4em;background-color: white;}#sk-container-id-1 div.sk-label label {font-family: monospace;font-weight: bold;display: inline-block;line-height: 1.2em;}#sk-container-id-1 div.sk-label-container {text-align: center;}#sk-container-id-1 div.sk-container {/* jupyter's `normalize.less` sets `[hidden] { display: none; }` but bootstrap.min.css set `[hidden] { display: none !important; }` so we also need the `!important` here to be able to override the default hidden behavior on the sphinx rendered scikit-learn.org. See: https://github.com/scikit-learn/scikit-learn/issues/21755 */display: inline-block !important;position: relative;}#sk-container-id-1 div.sk-text-repr-fallback {display: none;}</style><div id=\"sk-container-id-1\" class=\"sk-top-container\"><div class=\"sk-text-repr-fallback\"><pre>LinearRegression()</pre><b>In a Jupyter environment, please rerun this cell to show the HTML representation or trust the notebook. <br />On GitHub, the HTML representation is unable to render, please try loading this page with nbviewer.org.</b></div><div class=\"sk-container\" hidden><div class=\"sk-item\"><div class=\"sk-estimator sk-toggleable\"><input class=\"sk-toggleable__control sk-hidden--visually\" id=\"sk-estimator-id-1\" type=\"checkbox\" checked><label for=\"sk-estimator-id-1\" class=\"sk-toggleable__label sk-toggleable__label-arrow\">LinearRegression</label><div class=\"sk-toggleable__content\"><pre>LinearRegression()</pre></div></div></div></div></div>"
      ],
      "text/plain": [
       "LinearRegression()"
      ]
     },
     "execution_count": 22,
     "metadata": {},
     "output_type": "execute_result"
    }
   ],
   "source": [
    "x_train = train_linear['Days']\n",
    "y_train = train_linear['Close']\n",
    "x_test = test_linear['Days']\n",
    "y_test = test_linear['Close']\n",
    "\n",
    "x_train_reshaped = np.array(x_train).reshape(-1, 1)\n",
    "y_train_reshaped = np.array(y_train).reshape(-1, 1)\n",
    "\n",
    "x_test_reshaped = np.array(x_test).reshape(-1, 1)\n",
    "y_test_reshaped = np.array(y_test).reshape(-1, 1)\n",
    "\n",
    "#implement linear regression\n",
    "from sklearn.linear_model import LinearRegression\n",
    "model_lm = LinearRegression()\n",
    "model_lm.fit(x_train_reshaped,y_train_reshaped)"
   ]
  },
  {
   "cell_type": "code",
   "execution_count": 23,
   "id": "e6ce023c-5dba-4f17-839d-e2be680f586d",
   "metadata": {},
   "outputs": [
    {
     "data": {
      "text/plain": [
       "11.342481602316933"
      ]
     },
     "execution_count": 23,
     "metadata": {},
     "output_type": "execute_result"
    }
   ],
   "source": [
    "predictionsLM = model_lm.predict(x_test_reshaped)\n",
    "rms=np.sqrt(np.mean(np.power((np.array(y_test_reshaped)-np.array(predictionsLM)),2)))\n",
    "rms"
   ]
  },
  {
   "cell_type": "code",
   "execution_count": 24,
   "id": "fdaff70d-7d5f-4475-88f3-b46387805bb7",
   "metadata": {},
   "outputs": [
    {
     "data": {
      "text/plain": [
       "(100, 1)"
      ]
     },
     "execution_count": 24,
     "metadata": {},
     "output_type": "execute_result"
    }
   ],
   "source": [
    "predictionsLM.shape"
   ]
  },
  {
   "cell_type": "code",
   "execution_count": 25,
   "id": "3f1f1def-544a-4b4a-a994-ca77163d433b",
   "metadata": {},
   "outputs": [
    {
     "name": "stderr",
     "output_type": "stream",
     "text": [
      "/tmp/ipykernel_1/1578273221.py:1: SettingWithCopyWarning: \n",
      "A value is trying to be set on a copy of a slice from a DataFrame.\n",
      "Try using .loc[row_indexer,col_indexer] = value instead\n",
      "\n",
      "See the caveats in the documentation: https://pandas.pydata.org/pandas-docs/stable/user_guide/indexing.html#returning-a-view-versus-a-copy\n",
      "  test_linear['Predictions'] = 0\n",
      "/tmp/ipykernel_1/1578273221.py:2: SettingWithCopyWarning: \n",
      "A value is trying to be set on a copy of a slice from a DataFrame.\n",
      "Try using .loc[row_indexer,col_indexer] = value instead\n",
      "\n",
      "See the caveats in the documentation: https://pandas.pydata.org/pandas-docs/stable/user_guide/indexing.html#returning-a-view-versus-a-copy\n",
      "  test_linear['Predictions'] = predictionsLM\n"
     ]
    },
    {
     "data": {
      "text/plain": [
       "Text(0.5, 1.0, 'Predictions of apple')"
      ]
     },
     "execution_count": 25,
     "metadata": {},
     "output_type": "execute_result"
    },
    {
     "data": {
      "image/png": "[encoded data removed]",
      "text/plain": [
       "<Figure size 640x480 with 1 Axes>"
      ]
     },
     "metadata": {},
     "output_type": "display_data"
    }
   ],
   "source": [
    "test_linear['Predictions'] = 0\n",
    "test_linear['Predictions'] = predictionsLM\n",
    "\n",
    "test_linear.index = df_apple_stocks_linear.iloc[-100:].index\n",
    "train_linear.index = df_apple_stocks_linear.iloc[:-100].index\n",
    "\n",
    "plt.plot(train_linear['Close'])\n",
    "plt.plot(test_linear[['Close', 'Predictions']])\n",
    "plt.title(\"Predictions of apple\")"
   ]
  },
  {
   "cell_type": "code",
   "execution_count": 26,
   "id": "5e9ed724-be63-4a7b-817f-388fc57138d2",
   "metadata": {},
   "outputs": [
    {
     "data": {
      "text/html": [
       "<div>\n",
       "<style scoped>\n",
       "    .dataframe tbody tr th:only-of-type {\n",
       "        vertical-align: middle;\n",
       "    }\n",
       "\n",
       "    .dataframe tbody tr th {\n",
       "        vertical-align: top;\n",
       "    }\n",
       "\n",
       "    .dataframe thead th {\n",
       "        text-align: right;\n",
       "    }\n",
       "</style>\n",
       "<table border=\"1\" class=\"dataframe\">\n",
       "  <thead>\n",
       "    <tr style=\"text-align: right;\">\n",
       "      <th></th>\n",
       "      <th>Close</th>\n",
       "      <th>Days</th>\n",
       "      <th>Predictions</th>\n",
       "    </tr>\n",
       "    <tr>\n",
       "      <th>Date</th>\n",
       "      <th></th>\n",
       "      <th></th>\n",
       "      <th></th>\n",
       "    </tr>\n",
       "  </thead>\n",
       "  <tbody>\n",
       "    <tr>\n",
       "      <th>2023-07-06</th>\n",
       "      <td>191.809998</td>\n",
       "      <td>2011</td>\n",
       "      <td>182.205892</td>\n",
       "    </tr>\n",
       "    <tr>\n",
       "      <th>2023-07-07</th>\n",
       "      <td>190.679993</td>\n",
       "      <td>2012</td>\n",
       "      <td>182.283671</td>\n",
       "    </tr>\n",
       "    <tr>\n",
       "      <th>2023-07-10</th>\n",
       "      <td>188.610001</td>\n",
       "      <td>2015</td>\n",
       "      <td>182.517007</td>\n",
       "    </tr>\n",
       "    <tr>\n",
       "      <th>2023-07-11</th>\n",
       "      <td>188.080002</td>\n",
       "      <td>2016</td>\n",
       "      <td>182.594786</td>\n",
       "    </tr>\n",
       "    <tr>\n",
       "      <th>2023-07-12</th>\n",
       "      <td>189.770004</td>\n",
       "      <td>2017</td>\n",
       "      <td>182.672565</td>\n",
       "    </tr>\n",
       "    <tr>\n",
       "      <th>...</th>\n",
       "      <td>...</td>\n",
       "      <td>...</td>\n",
       "      <td>...</td>\n",
       "    </tr>\n",
       "    <tr>\n",
       "      <th>2023-11-17</th>\n",
       "      <td>189.690002</td>\n",
       "      <td>2145</td>\n",
       "      <td>192.628259</td>\n",
       "    </tr>\n",
       "    <tr>\n",
       "      <th>2023-11-20</th>\n",
       "      <td>191.449997</td>\n",
       "      <td>2148</td>\n",
       "      <td>192.861596</td>\n",
       "    </tr>\n",
       "    <tr>\n",
       "      <th>2023-11-21</th>\n",
       "      <td>190.639999</td>\n",
       "      <td>2149</td>\n",
       "      <td>192.939375</td>\n",
       "    </tr>\n",
       "    <tr>\n",
       "      <th>2023-11-22</th>\n",
       "      <td>191.309998</td>\n",
       "      <td>2150</td>\n",
       "      <td>193.017154</td>\n",
       "    </tr>\n",
       "    <tr>\n",
       "      <th>2023-11-24</th>\n",
       "      <td>189.970001</td>\n",
       "      <td>2152</td>\n",
       "      <td>193.172711</td>\n",
       "    </tr>\n",
       "  </tbody>\n",
       "</table>\n",
       "<p>100 rows × 3 columns</p>\n",
       "</div>"
      ],
      "text/plain": [
       "                 Close  Days  Predictions\n",
       "Date                                     \n",
       "2023-07-06  191.809998  2011   182.205892\n",
       "2023-07-07  190.679993  2012   182.283671\n",
       "2023-07-10  188.610001  2015   182.517007\n",
       "2023-07-11  188.080002  2016   182.594786\n",
       "2023-07-12  189.770004  2017   182.672565\n",
       "...                ...   ...          ...\n",
       "2023-11-17  189.690002  2145   192.628259\n",
       "2023-11-20  191.449997  2148   192.861596\n",
       "2023-11-21  190.639999  2149   192.939375\n",
       "2023-11-22  191.309998  2150   193.017154\n",
       "2023-11-24  189.970001  2152   193.172711\n",
       "\n",
       "[100 rows x 3 columns]"
      ]
     },
     "execution_count": 26,
     "metadata": {},
     "output_type": "execute_result"
    }
   ],
   "source": [
    "test_linear"
   ]
  },
  {
   "cell_type": "code",
   "execution_count": 27,
   "id": "bf54f8de-45ec-46fb-8c29-3e94c58c86d1",
   "metadata": {},
   "outputs": [
    {
     "data": {
      "text/plain": [
       "Timestamp('2023-11-24 00:00:00')"
      ]
     },
     "execution_count": 27,
     "metadata": {},
     "output_type": "execute_result"
    }
   ],
   "source": [
    "test_linear.index[99]"
   ]
  },
  {
   "cell_type": "code",
   "execution_count": 28,
   "id": "c2bd8b3a-df0e-49b3-a095-fa8c98f15e7c",
   "metadata": {},
   "outputs": [
    {
     "data": {
      "image/png": "[encoded data removed]",
      "text/plain": [
       "<Figure size 1000x600 with 1 Axes>"
      ]
     },
     "metadata": {},
     "output_type": "display_data"
    }
   ],
   "source": [
    "forecast_index = pd.date_range(start=test_linear.index[99], periods=100, freq='B')\n",
    "forecast_df = pd.DataFrame(predictionsLM, index=forecast_index, columns=['Forecast'])\n",
    "\n",
    "# Plot the results\n",
    "plt.figure(figsize=(10, 6))\n",
    "plt.plot(train_linear['Close'], label='Training Data')\n",
    "plt.plot(test_linear['Close'], label='Test Data')\n",
    "plt.plot(forecast_df, label='Forecast', linestyle='dashed', color='red')\n",
    "\n",
    "plt.title('Apple Stock Price Forecast with Linear Regression')\n",
    "plt.xlabel('Date')\n",
    "plt.ylabel('Close Price')\n",
    "plt.legend()\n",
    "plt.show()"
   ]
  },
  {
   "cell_type": "code",
   "execution_count": 29,
   "id": "69d9d922-dd8a-4b73-9094-42014a70e7f0",
   "metadata": {},
   "outputs": [
    {
     "data": {
      "text/html": [
       "<div>\n",
       "<style scoped>\n",
       "    .dataframe tbody tr th:only-of-type {\n",
       "        vertical-align: middle;\n",
       "    }\n",
       "\n",
       "    .dataframe tbody tr th {\n",
       "        vertical-align: top;\n",
       "    }\n",
       "\n",
       "    .dataframe thead th {\n",
       "        text-align: right;\n",
       "    }\n",
       "</style>\n",
       "<table border=\"1\" class=\"dataframe\">\n",
       "  <thead>\n",
       "    <tr style=\"text-align: right;\">\n",
       "      <th></th>\n",
       "      <th>Forecast</th>\n",
       "    </tr>\n",
       "  </thead>\n",
       "  <tbody>\n",
       "    <tr>\n",
       "      <th>2023-11-24</th>\n",
       "      <td>182.205892</td>\n",
       "    </tr>\n",
       "    <tr>\n",
       "      <th>2023-11-27</th>\n",
       "      <td>182.283671</td>\n",
       "    </tr>\n",
       "    <tr>\n",
       "      <th>2023-11-28</th>\n",
       "      <td>182.517007</td>\n",
       "    </tr>\n",
       "    <tr>\n",
       "      <th>2023-11-29</th>\n",
       "      <td>182.594786</td>\n",
       "    </tr>\n",
       "    <tr>\n",
       "      <th>2023-11-30</th>\n",
       "      <td>182.672565</td>\n",
       "    </tr>\n",
       "    <tr>\n",
       "      <th>...</th>\n",
       "      <td>...</td>\n",
       "    </tr>\n",
       "    <tr>\n",
       "      <th>2024-04-05</th>\n",
       "      <td>192.628259</td>\n",
       "    </tr>\n",
       "    <tr>\n",
       "      <th>2024-04-08</th>\n",
       "      <td>192.861596</td>\n",
       "    </tr>\n",
       "    <tr>\n",
       "      <th>2024-04-09</th>\n",
       "      <td>192.939375</td>\n",
       "    </tr>\n",
       "    <tr>\n",
       "      <th>2024-04-10</th>\n",
       "      <td>193.017154</td>\n",
       "    </tr>\n",
       "    <tr>\n",
       "      <th>2024-04-11</th>\n",
       "      <td>193.172711</td>\n",
       "    </tr>\n",
       "  </tbody>\n",
       "</table>\n",
       "<p>100 rows × 1 columns</p>\n",
       "</div>"
      ],
      "text/plain": [
       "              Forecast\n",
       "2023-11-24  182.205892\n",
       "2023-11-27  182.283671\n",
       "2023-11-28  182.517007\n",
       "2023-11-29  182.594786\n",
       "2023-11-30  182.672565\n",
       "...                ...\n",
       "2024-04-05  192.628259\n",
       "2024-04-08  192.861596\n",
       "2024-04-09  192.939375\n",
       "2024-04-10  193.017154\n",
       "2024-04-11  193.172711\n",
       "\n",
       "[100 rows x 1 columns]"
      ]
     },
     "execution_count": 29,
     "metadata": {},
     "output_type": "execute_result"
    }
   ],
   "source": [
    "forecast_df"
   ]
  },
  {
   "cell_type": "code",
   "execution_count": 30,
   "id": "d1eb64c3-e2fa-4ae4-b655-6c88a75dfb5f",
   "metadata": {},
   "outputs": [],
   "source": [
    "df_google_stocks_linear = df_google_stocks.drop(['Stock', 'Open','High','Low','Adj Close', 'Volume'],axis = 1)"
   ]
  },
  {
   "cell_type": "code",
   "execution_count": 31,
   "id": "ccbcda5a-32bf-4c27-a797-ef628a96bf27",
   "metadata": {},
   "outputs": [],
   "source": [
    "df_google_stocks_linear['Date'] = pd.to_datetime(df_google_stocks_linear.Date,format='%Y-%m-%d')\n",
    "df_google_stocks_linear.index = df_google_stocks_linear['Date']\n",
    "\n",
    "#sorting\n",
    "data = df_google_stocks_linear.sort_index(ascending=True, axis=0)"
   ]
  },
  {
   "cell_type": "code",
   "execution_count": 32,
   "id": "135fd5d1-cd44-4593-b408-e438683c550a",
   "metadata": {},
   "outputs": [],
   "source": [
    "df_google_stocks_linear['Days'] = (df_google_stocks_linear['Date'] - df_google_stocks_linear['Date'].min()).dt.days"
   ]
  },
  {
   "cell_type": "code",
   "execution_count": 33,
   "id": "6d7cb466-8051-4a3d-a6ff-a3d2a17295c1",
   "metadata": {},
   "outputs": [],
   "source": [
    "df_google_stocks_linear.set_index('Date',inplace = True)"
   ]
  },
  {
   "cell_type": "code",
   "execution_count": 34,
   "id": "a0d762c5-70ec-4ae3-81c7-5edfb68681ae",
   "metadata": {},
   "outputs": [],
   "source": [
    "train_linear_google = df_google_stocks_linear.iloc[:-100]\n",
    "test_linear_google = df_google_stocks_linear.iloc[-100:]"
   ]
  },
  {
   "cell_type": "code",
   "execution_count": 36,
   "id": "753f25dc-b9be-4820-81fd-ebfa3344d364",
   "metadata": {},
   "outputs": [
    {
     "data": {
      "text/html": [
       "<style>#sk-container-id-2 {color: black;}#sk-container-id-2 pre{padding: 0;}#sk-container-id-2 div.sk-toggleable {background-color: white;}#sk-container-id-2 label.sk-toggleable__label {cursor: pointer;display: block;width: 100%;margin-bottom: 0;padding: 0.3em;box-sizing: border-box;text-align: center;}#sk-container-id-2 label.sk-toggleable__label-arrow:before {content: \"▸\";float: left;margin-right: 0.25em;color: #696969;}#sk-container-id-2 label.sk-toggleable__label-arrow:hover:before {color: black;}#sk-container-id-2 div.sk-estimator:hover label.sk-toggleable__label-arrow:before {color: black;}#sk-container-id-2 div.sk-toggleable__content {max-height: 0;max-width: 0;overflow: hidden;text-align: left;background-color: #f0f8ff;}#sk-container-id-2 div.sk-toggleable__content pre {margin: 0.2em;color: black;border-radius: 0.25em;background-color: #f0f8ff;}#sk-container-id-2 input.sk-toggleable__control:checked~div.sk-toggleable__content {max-height: 200px;max-width: 100%;overflow: auto;}#sk-container-id-2 input.sk-toggleable__control:checked~label.sk-toggleable__label-arrow:before {content: \"▾\";}#sk-container-id-2 div.sk-estimator input.sk-toggleable__control:checked~label.sk-toggleable__label {background-color: #d4ebff;}#sk-container-id-2 div.sk-label input.sk-toggleable__control:checked~label.sk-toggleable__label {background-color: #d4ebff;}#sk-container-id-2 input.sk-hidden--visually {border: 0;clip: rect(1px 1px 1px 1px);clip: rect(1px, 1px, 1px, 1px);height: 1px;margin: -1px;overflow: hidden;padding: 0;position: absolute;width: 1px;}#sk-container-id-2 div.sk-estimator {font-family: monospace;background-color: #f0f8ff;border: 1px dotted black;border-radius: 0.25em;box-sizing: border-box;margin-bottom: 0.5em;}#sk-container-id-2 div.sk-estimator:hover {background-color: #d4ebff;}#sk-container-id-2 div.sk-parallel-item::after {content: \"\";width: 100%;border-bottom: 1px solid gray;flex-grow: 1;}#sk-container-id-2 div.sk-label:hover label.sk-toggleable__label {background-color: #d4ebff;}#sk-container-id-2 div.sk-serial::before {content: \"\";position: absolute;border-left: 1px solid gray;box-sizing: border-box;top: 0;bottom: 0;left: 50%;z-index: 0;}#sk-container-id-2 div.sk-serial {display: flex;flex-direction: column;align-items: center;background-color: white;padding-right: 0.2em;padding-left: 0.2em;position: relative;}#sk-container-id-2 div.sk-item {position: relative;z-index: 1;}#sk-container-id-2 div.sk-parallel {display: flex;align-items: stretch;justify-content: center;background-color: white;position: relative;}#sk-container-id-2 div.sk-item::before, #sk-container-id-2 div.sk-parallel-item::before {content: \"\";position: absolute;border-left: 1px solid gray;box-sizing: border-box;top: 0;bottom: 0;left: 50%;z-index: -1;}#sk-container-id-2 div.sk-parallel-item {display: flex;flex-direction: column;z-index: 1;position: relative;background-color: white;}#sk-container-id-2 div.sk-parallel-item:first-child::after {align-self: flex-end;width: 50%;}#sk-container-id-2 div.sk-parallel-item:last-child::after {align-self: flex-start;width: 50%;}#sk-container-id-2 div.sk-parallel-item:only-child::after {width: 0;}#sk-container-id-2 div.sk-dashed-wrapped {border: 1px dashed gray;margin: 0 0.4em 0.5em 0.4em;box-sizing: border-box;padding-bottom: 0.4em;background-color: white;}#sk-container-id-2 div.sk-label label {font-family: monospace;font-weight: bold;display: inline-block;line-height: 1.2em;}#sk-container-id-2 div.sk-label-container {text-align: center;}#sk-container-id-2 div.sk-container {/* jupyter's `normalize.less` sets `[hidden] { display: none; }` but bootstrap.min.css set `[hidden] { display: none !important; }` so we also need the `!important` here to be able to override the default hidden behavior on the sphinx rendered scikit-learn.org. See: https://github.com/scikit-learn/scikit-learn/issues/21755 */display: inline-block !important;position: relative;}#sk-container-id-2 div.sk-text-repr-fallback {display: none;}</style><div id=\"sk-container-id-2\" class=\"sk-top-container\"><div class=\"sk-text-repr-fallback\"><pre>LinearRegression()</pre><b>In a Jupyter environment, please rerun this cell to show the HTML representation or trust the notebook. <br />On GitHub, the HTML representation is unable to render, please try loading this page with nbviewer.org.</b></div><div class=\"sk-container\" hidden><div class=\"sk-item\"><div class=\"sk-estimator sk-toggleable\"><input class=\"sk-toggleable__control sk-hidden--visually\" id=\"sk-estimator-id-2\" type=\"checkbox\" checked><label for=\"sk-estimator-id-2\" class=\"sk-toggleable__label sk-toggleable__label-arrow\">LinearRegression</label><div class=\"sk-toggleable__content\"><pre>LinearRegression()</pre></div></div></div></div></div>"
      ],
      "text/plain": [
       "LinearRegression()"
      ]
     },
     "execution_count": 36,
     "metadata": {},
     "output_type": "execute_result"
    }
   ],
   "source": [
    "x_train_google = train_linear_google['Days']\n",
    "y_train_google = train_linear_google['Close']\n",
    "x_test_google= test_linear_google['Days']\n",
    "y_test_google = test_linear_google['Close']\n",
    "\n",
    "x_train_reshaped_google = np.array(x_train_google).reshape(-1, 1)\n",
    "y_train_reshaped_google = np.array(y_train_google).reshape(-1, 1)\n",
    "\n",
    "x_test_reshaped_google = np.array(x_test_google).reshape(-1, 1)\n",
    "y_test_reshaped_google = np.array(y_test_google).reshape(-1, 1)\n",
    "\n",
    "#implement linear regression\n",
    "from sklearn.linear_model import LinearRegression\n",
    "model_lm_google = LinearRegression()\n",
    "model_lm_google.fit(x_train_reshaped_google,y_train_reshaped_google)"
   ]
  },
  {
   "cell_type": "code",
   "execution_count": 37,
   "id": "ed4a4d0b-83a5-4532-a4a4-7e11112d1a73",
   "metadata": {},
   "outputs": [
    {
     "data": {
      "text/plain": [
       "Date\n",
       "2023-07-06    120.110001\n",
       "2023-07-07    119.480003\n",
       "2023-07-10    116.449997\n",
       "2023-07-11    117.139999\n",
       "2023-07-12    118.930000\n",
       "                 ...    \n",
       "2023-11-17    135.309998\n",
       "2023-11-20    136.250000\n",
       "2023-11-21    136.970001\n",
       "2023-11-22    138.490005\n",
       "2023-11-24    136.690002\n",
       "Name: Close, Length: 100, dtype: float64"
      ]
     },
     "execution_count": 37,
     "metadata": {},
     "output_type": "execute_result"
    }
   ],
   "source": [
    "y_test_google"
   ]
  },
  {
   "cell_type": "code",
   "execution_count": 38,
   "id": "4d27782b-b0d8-4af2-82b6-a1dabd1b1d07",
   "metadata": {},
   "outputs": [
    {
     "data": {
      "text/plain": [
       "(100, 1)"
      ]
     },
     "execution_count": 38,
     "metadata": {},
     "output_type": "execute_result"
    }
   ],
   "source": [
    "x_test_reshaped_google.shape"
   ]
  },
  {
   "cell_type": "code",
   "execution_count": 39,
   "id": "6ccb4475-53e7-42ab-9c8e-2a0d6759dbd2",
   "metadata": {},
   "outputs": [
    {
     "name": "stdout",
     "output_type": "stream",
     "text": [
      "RMSE: 5.187067710161403\n"
     ]
    }
   ],
   "source": [
    "predictionsLM_google = model_lm_google.predict(x_test_reshaped_google)\n",
    "rms = np.sqrt(np.mean(np.power((y_test_reshaped_google - predictionsLM_google), 2)))\n",
    "print(\"RMSE:\", rms)\n",
    "\n"
   ]
  },
  {
   "cell_type": "code",
   "execution_count": 40,
   "id": "e746dbcb-5d92-40a3-ad5c-f3fe406c47ae",
   "metadata": {},
   "outputs": [
    {
     "name": "stderr",
     "output_type": "stream",
     "text": [
      "/tmp/ipykernel_1/761919141.py:1: SettingWithCopyWarning: \n",
      "A value is trying to be set on a copy of a slice from a DataFrame.\n",
      "Try using .loc[row_indexer,col_indexer] = value instead\n",
      "\n",
      "See the caveats in the documentation: https://pandas.pydata.org/pandas-docs/stable/user_guide/indexing.html#returning-a-view-versus-a-copy\n",
      "  test_linear_google['Predictions'] = 0\n",
      "/tmp/ipykernel_1/761919141.py:2: SettingWithCopyWarning: \n",
      "A value is trying to be set on a copy of a slice from a DataFrame.\n",
      "Try using .loc[row_indexer,col_indexer] = value instead\n",
      "\n",
      "See the caveats in the documentation: https://pandas.pydata.org/pandas-docs/stable/user_guide/indexing.html#returning-a-view-versus-a-copy\n",
      "  test_linear_google['Predictions'] = predictionsLM_google\n"
     ]
    },
    {
     "data": {
      "text/plain": [
       "[<matplotlib.lines.Line2D at 0x7f5b47823f10>,\n",
       " <matplotlib.lines.Line2D at 0x7f5b47820a00>]"
      ]
     },
     "execution_count": 40,
     "metadata": {},
     "output_type": "execute_result"
    },
    {
     "data": {
      "image/png": "[encoded data removed]",
      "text/plain": [
       "<Figure size 640x480 with 1 Axes>"
      ]
     },
     "metadata": {},
     "output_type": "display_data"
    }
   ],
   "source": [
    "test_linear_google['Predictions'] = 0\n",
    "test_linear_google['Predictions'] = predictionsLM_google\n",
    "\n",
    "test_linear_google.index = df_google_stocks_linear.iloc[-100:].index\n",
    "train_linear_google.index = df_google_stocks_linear.iloc[:-100].index\n",
    "\n",
    "plt.plot(train_linear_google['Close'])\n",
    "plt.plot(test_linear_google[['Close', 'Predictions']])\n",
    "\n"
   ]
  },
  {
   "cell_type": "code",
   "execution_count": 41,
   "id": "3b67d3b8-9f4b-49c6-9f88-15fa6af0a827",
   "metadata": {},
   "outputs": [
    {
     "data": {
      "image/png": "[encoded data removed]",
      "text/plain": [
       "<Figure size 1000x600 with 1 Axes>"
      ]
     },
     "metadata": {},
     "output_type": "display_data"
    }
   ],
   "source": [
    "forecast_index = pd.date_range(start=test_linear.index[99], periods=100, freq='B')\n",
    "forecast_df = pd.DataFrame(predictionsLM_google, index=forecast_index, columns=['Forecast'])\n",
    "\n",
    "# Plot the results\n",
    "plt.figure(figsize=(10, 6))\n",
    "plt.plot(train_linear['Close'], label='Training Data')\n",
    "plt.plot(test_linear['Close'], label='Test Data')\n",
    "plt.plot(forecast_df, label='Forecast', linestyle='dashed', color='red')\n",
    "\n",
    "plt.title('Google Stock Price Forecast with Linear Regression')\n",
    "plt.xlabel('Date')\n",
    "plt.ylabel('Close Price')\n",
    "plt.legend()\n",
    "plt.show()"
   ]
  },
  {
   "cell_type": "code",
   "execution_count": 42,
   "id": "009860cf-67c3-4e2c-be67-cb226a59f8bf",
   "metadata": {},
   "outputs": [],
   "source": [
    "df_nvda_stocks_linear = df_nvda_stocks.drop(['Stock', 'Open','High','Low','Adj Close', 'Volume'],axis = 1)"
   ]
  },
  {
   "cell_type": "code",
   "execution_count": 43,
   "id": "c0cd477e-cb4b-46e2-a1dd-fe8e9fac1516",
   "metadata": {},
   "outputs": [],
   "source": [
    "df_nvda_stocks_linear['Date'] = pd.to_datetime(df_nvda_stocks_linear.Date,format='%Y-%m-%d')\n",
    "df_nvda_stocks_linear.index = df_nvda_stocks_linear['Date']\n",
    "\n",
    "#sorting\n",
    "data = df_nvda_stocks_linear.sort_index(ascending=True, axis=0)"
   ]
  },
  {
   "cell_type": "code",
   "execution_count": 44,
   "id": "b4955ad9-20fc-475d-90c3-2a89ff2aba34",
   "metadata": {},
   "outputs": [],
   "source": [
    "df_nvda_stocks_linear['Days'] = (df_nvda_stocks_linear['Date'] - df_nvda_stocks_linear['Date'].min()).dt.days"
   ]
  },
  {
   "cell_type": "code",
   "execution_count": 45,
   "id": "24507acf-8c8f-4706-bb9f-b9492ac44a10",
   "metadata": {},
   "outputs": [],
   "source": [
    "df_nvda_stocks_linear.set_index('Date',inplace = True)"
   ]
  },
  {
   "cell_type": "code",
   "execution_count": 46,
   "id": "f0d75138-146f-4093-a20a-e1a1126f3e39",
   "metadata": {},
   "outputs": [],
   "source": [
    "train_linear_nvda = df_nvda_stocks_linear.iloc[:-100]\n",
    "test_linear_nvda = df_nvda_stocks_linear.iloc[-100:]"
   ]
  },
  {
   "cell_type": "code",
   "execution_count": 47,
   "id": "775cb67d-d172-4cf6-a9a7-f27e371bcd37",
   "metadata": {},
   "outputs": [
    {
     "data": {
      "text/plain": [
       "(1385, 2)"
      ]
     },
     "execution_count": 47,
     "metadata": {},
     "output_type": "execute_result"
    }
   ],
   "source": [
    "train_linear_nvda.shape"
   ]
  },
  {
   "cell_type": "code",
   "execution_count": 48,
   "id": "6f9642cb-3a73-4995-b147-2c041af89d9e",
   "metadata": {},
   "outputs": [
    {
     "data": {
      "text/plain": [
       "(100, 2)"
      ]
     },
     "execution_count": 48,
     "metadata": {},
     "output_type": "execute_result"
    }
   ],
   "source": [
    "test_linear_nvda.shape"
   ]
  },
  {
   "cell_type": "code",
   "execution_count": 49,
   "id": "8d567ed2-c07a-4f11-8303-a0fb0d27456a",
   "metadata": {},
   "outputs": [
    {
     "data": {
      "text/html": [
       "<style>#sk-container-id-3 {color: black;}#sk-container-id-3 pre{padding: 0;}#sk-container-id-3 div.sk-toggleable {background-color: white;}#sk-container-id-3 label.sk-toggleable__label {cursor: pointer;display: block;width: 100%;margin-bottom: 0;padding: 0.3em;box-sizing: border-box;text-align: center;}#sk-container-id-3 label.sk-toggleable__label-arrow:before {content: \"▸\";float: left;margin-right: 0.25em;color: #696969;}#sk-container-id-3 label.sk-toggleable__label-arrow:hover:before {color: black;}#sk-container-id-3 div.sk-estimator:hover label.sk-toggleable__label-arrow:before {color: black;}#sk-container-id-3 div.sk-toggleable__content {max-height: 0;max-width: 0;overflow: hidden;text-align: left;background-color: #f0f8ff;}#sk-container-id-3 div.sk-toggleable__content pre {margin: 0.2em;color: black;border-radius: 0.25em;background-color: #f0f8ff;}#sk-container-id-3 input.sk-toggleable__control:checked~div.sk-toggleable__content {max-height: 200px;max-width: 100%;overflow: auto;}#sk-container-id-3 input.sk-toggleable__control:checked~label.sk-toggleable__label-arrow:before {content: \"▾\";}#sk-container-id-3 div.sk-estimator input.sk-toggleable__control:checked~label.sk-toggleable__label {background-color: #d4ebff;}#sk-container-id-3 div.sk-label input.sk-toggleable__control:checked~label.sk-toggleable__label {background-color: #d4ebff;}#sk-container-id-3 input.sk-hidden--visually {border: 0;clip: rect(1px 1px 1px 1px);clip: rect(1px, 1px, 1px, 1px);height: 1px;margin: -1px;overflow: hidden;padding: 0;position: absolute;width: 1px;}#sk-container-id-3 div.sk-estimator {font-family: monospace;background-color: #f0f8ff;border: 1px dotted black;border-radius: 0.25em;box-sizing: border-box;margin-bottom: 0.5em;}#sk-container-id-3 div.sk-estimator:hover {background-color: #d4ebff;}#sk-container-id-3 div.sk-parallel-item::after {content: \"\";width: 100%;border-bottom: 1px solid gray;flex-grow: 1;}#sk-container-id-3 div.sk-label:hover label.sk-toggleable__label {background-color: #d4ebff;}#sk-container-id-3 div.sk-serial::before {content: \"\";position: absolute;border-left: 1px solid gray;box-sizing: border-box;top: 0;bottom: 0;left: 50%;z-index: 0;}#sk-container-id-3 div.sk-serial {display: flex;flex-direction: column;align-items: center;background-color: white;padding-right: 0.2em;padding-left: 0.2em;position: relative;}#sk-container-id-3 div.sk-item {position: relative;z-index: 1;}#sk-container-id-3 div.sk-parallel {display: flex;align-items: stretch;justify-content: center;background-color: white;position: relative;}#sk-container-id-3 div.sk-item::before, #sk-container-id-3 div.sk-parallel-item::before {content: \"\";position: absolute;border-left: 1px solid gray;box-sizing: border-box;top: 0;bottom: 0;left: 50%;z-index: -1;}#sk-container-id-3 div.sk-parallel-item {display: flex;flex-direction: column;z-index: 1;position: relative;background-color: white;}#sk-container-id-3 div.sk-parallel-item:first-child::after {align-self: flex-end;width: 50%;}#sk-container-id-3 div.sk-parallel-item:last-child::after {align-self: flex-start;width: 50%;}#sk-container-id-3 div.sk-parallel-item:only-child::after {width: 0;}#sk-container-id-3 div.sk-dashed-wrapped {border: 1px dashed gray;margin: 0 0.4em 0.5em 0.4em;box-sizing: border-box;padding-bottom: 0.4em;background-color: white;}#sk-container-id-3 div.sk-label label {font-family: monospace;font-weight: bold;display: inline-block;line-height: 1.2em;}#sk-container-id-3 div.sk-label-container {text-align: center;}#sk-container-id-3 div.sk-container {/* jupyter's `normalize.less` sets `[hidden] { display: none; }` but bootstrap.min.css set `[hidden] { display: none !important; }` so we also need the `!important` here to be able to override the default hidden behavior on the sphinx rendered scikit-learn.org. See: https://github.com/scikit-learn/scikit-learn/issues/21755 */display: inline-block !important;position: relative;}#sk-container-id-3 div.sk-text-repr-fallback {display: none;}</style><div id=\"sk-container-id-3\" class=\"sk-top-container\"><div class=\"sk-text-repr-fallback\"><pre>LinearRegression()</pre><b>In a Jupyter environment, please rerun this cell to show the HTML representation or trust the notebook. <br />On GitHub, the HTML representation is unable to render, please try loading this page with nbviewer.org.</b></div><div class=\"sk-container\" hidden><div class=\"sk-item\"><div class=\"sk-estimator sk-toggleable\"><input class=\"sk-toggleable__control sk-hidden--visually\" id=\"sk-estimator-id-3\" type=\"checkbox\" checked><label for=\"sk-estimator-id-3\" class=\"sk-toggleable__label sk-toggleable__label-arrow\">LinearRegression</label><div class=\"sk-toggleable__content\"><pre>LinearRegression()</pre></div></div></div></div></div>"
      ],
      "text/plain": [
       "LinearRegression()"
      ]
     },
     "execution_count": 49,
     "metadata": {},
     "output_type": "execute_result"
    }
   ],
   "source": [
    "x_train_nvda = train_linear_nvda['Days']\n",
    "y_train_nvda = train_linear_nvda['Close']\n",
    "x_test_nvda= test_linear_nvda['Days']\n",
    "y_test_nvda = test_linear_nvda['Close']\n",
    "\n",
    "x_train_reshaped_nvda = np.array(x_train_nvda).reshape(-1, 1)\n",
    "y_train_reshaped_nvda = np.array(y_train_nvda).reshape(-1, 1)\n",
    "\n",
    "x_test_reshaped_nvda = np.array(x_test_nvda).reshape(-1, 1)\n",
    "y_test_reshaped_nvda = np.array(y_test_nvda).reshape(-1, 1)\n",
    "\n",
    "#implement linear regression\n",
    "from sklearn.linear_model import LinearRegression\n",
    "model_lm_nvda = LinearRegression()\n",
    "model_lm_nvda.fit(x_train_reshaped_nvda,y_train_reshaped_nvda)"
   ]
  },
  {
   "cell_type": "code",
   "execution_count": 50,
   "id": "89866438-7958-4aa2-81dd-ca8311c7c24a",
   "metadata": {},
   "outputs": [
    {
     "name": "stdout",
     "output_type": "stream",
     "text": [
      "RMSE: 318.89482212181815\n"
     ]
    }
   ],
   "source": [
    "predictionsLM_nvda = model_lm_google.predict(x_test_reshaped_nvda)\n",
    "rms = np.sqrt(np.mean(np.power((y_test_reshaped_nvda - predictionsLM_nvda), 2)))\n",
    "print(\"RMSE:\", rms)"
   ]
  },
  {
   "cell_type": "code",
   "execution_count": 51,
   "id": "2e5fbef7-39d6-47b6-bb13-0d300a8e9c82",
   "metadata": {},
   "outputs": [
    {
     "name": "stderr",
     "output_type": "stream",
     "text": [
      "/tmp/ipykernel_1/290119827.py:1: SettingWithCopyWarning: \n",
      "A value is trying to be set on a copy of a slice from a DataFrame.\n",
      "Try using .loc[row_indexer,col_indexer] = value instead\n",
      "\n",
      "See the caveats in the documentation: https://pandas.pydata.org/pandas-docs/stable/user_guide/indexing.html#returning-a-view-versus-a-copy\n",
      "  test_linear_nvda['Predictions'] = 0\n",
      "/tmp/ipykernel_1/290119827.py:2: SettingWithCopyWarning: \n",
      "A value is trying to be set on a copy of a slice from a DataFrame.\n",
      "Try using .loc[row_indexer,col_indexer] = value instead\n",
      "\n",
      "See the caveats in the documentation: https://pandas.pydata.org/pandas-docs/stable/user_guide/indexing.html#returning-a-view-versus-a-copy\n",
      "  test_linear_nvda['Predictions'] = predictionsLM_nvda\n"
     ]
    },
    {
     "data": {
      "text/plain": [
       "[<matplotlib.lines.Line2D at 0x7f5b35f76950>,\n",
       " <matplotlib.lines.Line2D at 0x7f5b35f76980>]"
      ]
     },
     "execution_count": 51,
     "metadata": {},
     "output_type": "execute_result"
    },
    {
     "data": {
      "image/png": "[encoded data removed]",
      "text/plain": [
       "<Figure size 640x480 with 1 Axes>"
      ]
     },
     "metadata": {},
     "output_type": "display_data"
    }
   ],
   "source": [
    "test_linear_nvda['Predictions'] = 0\n",
    "test_linear_nvda['Predictions'] = predictionsLM_nvda\n",
    "\n",
    "test_linear_nvda.index = df_nvda_stocks_linear.iloc[-100:].index\n",
    "train_linear_nvda.index = df_nvda_stocks_linear.iloc[:-100].index\n",
    "\n",
    "plt.plot(train_linear_nvda['Close'])\n",
    "plt.plot(test_linear_nvda[['Close', 'Predictions']])"
   ]
  },
  {
   "cell_type": "markdown",
   "id": "c93f5dc1-35c7-4e2d-a857-53ef2169a4ac",
   "metadata": {},
   "source": [
    "moving Average"
   ]
  },
  {
   "cell_type": "code",
   "execution_count": 52,
   "id": "1659ee01-6bec-4557-a701-a7b4fe4fe82d",
   "metadata": {},
   "outputs": [],
   "source": [
    "train_mv = df_apple_stocks.iloc[:-100]\n",
    "test_mv = df_apple_stocks.iloc[-100:]\n",
    "\n",
    "predictors_mv= [\"Close\"]\n",
    "train_mv= train_mv.set_index('Date')"
   ]
  },
  {
   "cell_type": "code",
   "execution_count": 53,
   "id": "70cfd889-259e-4863-99ea-87ab46879d0f",
   "metadata": {},
   "outputs": [
    {
     "data": {
      "text/html": [
       "<div>\n",
       "<style scoped>\n",
       "    .dataframe tbody tr th:only-of-type {\n",
       "        vertical-align: middle;\n",
       "    }\n",
       "\n",
       "    .dataframe tbody tr th {\n",
       "        vertical-align: top;\n",
       "    }\n",
       "\n",
       "    .dataframe thead th {\n",
       "        text-align: right;\n",
       "    }\n",
       "</style>\n",
       "<table border=\"1\" class=\"dataframe\">\n",
       "  <thead>\n",
       "    <tr style=\"text-align: right;\">\n",
       "      <th></th>\n",
       "      <th>Stock</th>\n",
       "      <th>Open</th>\n",
       "      <th>High</th>\n",
       "      <th>Low</th>\n",
       "      <th>Close</th>\n",
       "      <th>Adj Close</th>\n",
       "      <th>Volume</th>\n",
       "    </tr>\n",
       "    <tr>\n",
       "      <th>Date</th>\n",
       "      <th></th>\n",
       "      <th></th>\n",
       "      <th></th>\n",
       "      <th></th>\n",
       "      <th></th>\n",
       "      <th></th>\n",
       "      <th></th>\n",
       "    </tr>\n",
       "  </thead>\n",
       "  <tbody>\n",
       "    <tr>\n",
       "      <th>2018-01-02</th>\n",
       "      <td>AAPL</td>\n",
       "      <td>42.540001</td>\n",
       "      <td>43.075001</td>\n",
       "      <td>42.314999</td>\n",
       "      <td>43.064999</td>\n",
       "      <td>40.722870</td>\n",
       "      <td>102223600</td>\n",
       "    </tr>\n",
       "    <tr>\n",
       "      <th>2018-01-03</th>\n",
       "      <td>AAPL</td>\n",
       "      <td>43.132500</td>\n",
       "      <td>43.637501</td>\n",
       "      <td>42.990002</td>\n",
       "      <td>43.057499</td>\n",
       "      <td>40.715786</td>\n",
       "      <td>118071600</td>\n",
       "    </tr>\n",
       "    <tr>\n",
       "      <th>2018-01-04</th>\n",
       "      <td>AAPL</td>\n",
       "      <td>43.134998</td>\n",
       "      <td>43.367500</td>\n",
       "      <td>43.020000</td>\n",
       "      <td>43.257500</td>\n",
       "      <td>40.904907</td>\n",
       "      <td>89738400</td>\n",
       "    </tr>\n",
       "    <tr>\n",
       "      <th>2018-01-05</th>\n",
       "      <td>AAPL</td>\n",
       "      <td>43.360001</td>\n",
       "      <td>43.842499</td>\n",
       "      <td>43.262501</td>\n",
       "      <td>43.750000</td>\n",
       "      <td>41.370621</td>\n",
       "      <td>94640000</td>\n",
       "    </tr>\n",
       "    <tr>\n",
       "      <th>2018-01-08</th>\n",
       "      <td>AAPL</td>\n",
       "      <td>43.587502</td>\n",
       "      <td>43.902500</td>\n",
       "      <td>43.482498</td>\n",
       "      <td>43.587502</td>\n",
       "      <td>41.216965</td>\n",
       "      <td>82271200</td>\n",
       "    </tr>\n",
       "    <tr>\n",
       "      <th>...</th>\n",
       "      <td>...</td>\n",
       "      <td>...</td>\n",
       "      <td>...</td>\n",
       "      <td>...</td>\n",
       "      <td>...</td>\n",
       "      <td>...</td>\n",
       "      <td>...</td>\n",
       "    </tr>\n",
       "    <tr>\n",
       "      <th>2023-06-28</th>\n",
       "      <td>AAPL</td>\n",
       "      <td>187.929993</td>\n",
       "      <td>189.899994</td>\n",
       "      <td>187.600006</td>\n",
       "      <td>189.250000</td>\n",
       "      <td>188.746124</td>\n",
       "      <td>51216800</td>\n",
       "    </tr>\n",
       "    <tr>\n",
       "      <th>2023-06-29</th>\n",
       "      <td>AAPL</td>\n",
       "      <td>189.080002</td>\n",
       "      <td>190.070007</td>\n",
       "      <td>188.940002</td>\n",
       "      <td>189.589996</td>\n",
       "      <td>189.085205</td>\n",
       "      <td>46347300</td>\n",
       "    </tr>\n",
       "    <tr>\n",
       "      <th>2023-06-30</th>\n",
       "      <td>AAPL</td>\n",
       "      <td>191.630005</td>\n",
       "      <td>194.479996</td>\n",
       "      <td>191.259995</td>\n",
       "      <td>193.970001</td>\n",
       "      <td>193.453552</td>\n",
       "      <td>85069600</td>\n",
       "    </tr>\n",
       "    <tr>\n",
       "      <th>2023-07-03</th>\n",
       "      <td>AAPL</td>\n",
       "      <td>193.779999</td>\n",
       "      <td>193.880005</td>\n",
       "      <td>191.759995</td>\n",
       "      <td>192.460007</td>\n",
       "      <td>191.947586</td>\n",
       "      <td>31458200</td>\n",
       "    </tr>\n",
       "    <tr>\n",
       "      <th>2023-07-05</th>\n",
       "      <td>AAPL</td>\n",
       "      <td>191.570007</td>\n",
       "      <td>192.979996</td>\n",
       "      <td>190.619995</td>\n",
       "      <td>191.330002</td>\n",
       "      <td>190.820587</td>\n",
       "      <td>46920300</td>\n",
       "    </tr>\n",
       "  </tbody>\n",
       "</table>\n",
       "<p>1385 rows × 7 columns</p>\n",
       "</div>"
      ],
      "text/plain": [
       "           Stock        Open        High         Low       Close   Adj Close  \\\n",
       "Date                                                                           \n",
       "2018-01-02  AAPL   42.540001   43.075001   42.314999   43.064999   40.722870   \n",
       "2018-01-03  AAPL   43.132500   43.637501   42.990002   43.057499   40.715786   \n",
       "2018-01-04  AAPL   43.134998   43.367500   43.020000   43.257500   40.904907   \n",
       "2018-01-05  AAPL   43.360001   43.842499   43.262501   43.750000   41.370621   \n",
       "2018-01-08  AAPL   43.587502   43.902500   43.482498   43.587502   41.216965   \n",
       "...          ...         ...         ...         ...         ...         ...   \n",
       "2023-06-28  AAPL  187.929993  189.899994  187.600006  189.250000  188.746124   \n",
       "2023-06-29  AAPL  189.080002  190.070007  188.940002  189.589996  189.085205   \n",
       "2023-06-30  AAPL  191.630005  194.479996  191.259995  193.970001  193.453552   \n",
       "2023-07-03  AAPL  193.779999  193.880005  191.759995  192.460007  191.947586   \n",
       "2023-07-05  AAPL  191.570007  192.979996  190.619995  191.330002  190.820587   \n",
       "\n",
       "               Volume  \n",
       "Date                   \n",
       "2018-01-02  102223600  \n",
       "2018-01-03  118071600  \n",
       "2018-01-04   89738400  \n",
       "2018-01-05   94640000  \n",
       "2018-01-08   82271200  \n",
       "...               ...  \n",
       "2023-06-28   51216800  \n",
       "2023-06-29   46347300  \n",
       "2023-06-30   85069600  \n",
       "2023-07-03   31458200  \n",
       "2023-07-05   46920300  \n",
       "\n",
       "[1385 rows x 7 columns]"
      ]
     },
     "execution_count": 53,
     "metadata": {},
     "output_type": "execute_result"
    }
   ],
   "source": [
    "train_mv"
   ]
  },
  {
   "cell_type": "code",
   "execution_count": 54,
   "id": "f2fba270-aa42-4145-a6b4-e89dc773cda9",
   "metadata": {},
   "outputs": [],
   "source": [
    "test_mv = test_mv.set_index('Date')"
   ]
  },
  {
   "cell_type": "code",
   "execution_count": 55,
   "id": "cd95d6c4-1d64-4235-8696-273c8b79654d",
   "metadata": {},
   "outputs": [
    {
     "name": "stdout",
     "output_type": "stream",
     "text": [
      "(1385, 7)\n",
      "(100, 7)\n"
     ]
    }
   ],
   "source": [
    "\n",
    "print(train_mv.shape)\n",
    "print(test_mv.shape)"
   ]
  },
  {
   "cell_type": "code",
   "execution_count": 56,
   "id": "f61c6ce4-ae73-49d5-812f-798137aefa84",
   "metadata": {},
   "outputs": [],
   "source": [
    "predsFormv = []\n",
    "for i in range(0,test_mv.shape[0]):\n",
    "    a = train_mv['Close'][len(train_mv)-250+i:].sum() + sum(predsFormv)\n",
    "    b = a/250\n",
    "    predsFormv.append(b)"
   ]
  },
  {
   "cell_type": "code",
   "execution_count": 57,
   "id": "0d8c83c0-7165-4cd4-b6c8-ea2db0bb7604",
   "metadata": {},
   "outputs": [
    {
     "name": "stdout",
     "output_type": "stream",
     "text": [
      "\n",
      " RMSE value on validation set:\n",
      "26.80430888107338\n"
     ]
    }
   ],
   "source": [
    "rms=np.sqrt(np.mean(np.power((np.array(test_mv['Close'])-predsFormv),2)))\n",
    "print('\\n RMSE value on validation set:')\n",
    "print(rms)"
   ]
  },
  {
   "cell_type": "code",
   "execution_count": 58,
   "id": "d681f057-c3ef-49a4-87bb-46a6b6e590e6",
   "metadata": {},
   "outputs": [
    {
     "data": {
      "text/plain": [
       "[<matplotlib.lines.Line2D at 0x7f5b35e08b50>,\n",
       " <matplotlib.lines.Line2D at 0x7f5b35e08790>]"
      ]
     },
     "execution_count": 58,
     "metadata": {},
     "output_type": "execute_result"
    },
    {
     "data": {
      "image/png": "[encoded data removed]",
      "text/plain": [
       "<Figure size 640x480 with 1 Axes>"
      ]
     },
     "metadata": {},
     "output_type": "display_data"
    }
   ],
   "source": [
    "\n",
    "test_mv['Predictions'] = 0\n",
    "test_mv['Predictions'] = predsFormv\n",
    "\n",
    "plt.plot(train_mv['Close'])\n",
    "plt.plot(test_mv[['Close', 'Predictions']])"
   ]
  },
  {
   "cell_type": "code",
   "execution_count": 60,
   "id": "18bf10e5-2bc2-4510-add1-92b07cdbafac",
   "metadata": {},
   "outputs": [
    {
     "data": {
      "text/html": [
       "<div>\n",
       "<style scoped>\n",
       "    .dataframe tbody tr th:only-of-type {\n",
       "        vertical-align: middle;\n",
       "    }\n",
       "\n",
       "    .dataframe tbody tr th {\n",
       "        vertical-align: top;\n",
       "    }\n",
       "\n",
       "    .dataframe thead th {\n",
       "        text-align: right;\n",
       "    }\n",
       "</style>\n",
       "<table border=\"1\" class=\"dataframe\">\n",
       "  <thead>\n",
       "    <tr style=\"text-align: right;\">\n",
       "      <th></th>\n",
       "      <th>Stock</th>\n",
       "      <th>Open</th>\n",
       "      <th>High</th>\n",
       "      <th>Low</th>\n",
       "      <th>Close</th>\n",
       "      <th>Adj Close</th>\n",
       "      <th>Volume</th>\n",
       "      <th>Predictions</th>\n",
       "    </tr>\n",
       "    <tr>\n",
       "      <th>Date</th>\n",
       "      <th></th>\n",
       "      <th></th>\n",
       "      <th></th>\n",
       "      <th></th>\n",
       "      <th></th>\n",
       "      <th></th>\n",
       "      <th></th>\n",
       "      <th></th>\n",
       "    </tr>\n",
       "  </thead>\n",
       "  <tbody>\n",
       "    <tr>\n",
       "      <th>2023-07-06</th>\n",
       "      <td>AAPL</td>\n",
       "      <td>189.839996</td>\n",
       "      <td>192.020004</td>\n",
       "      <td>189.199997</td>\n",
       "      <td>191.809998</td>\n",
       "      <td>191.299301</td>\n",
       "      <td>45094300</td>\n",
       "      <td>155.841200</td>\n",
       "    </tr>\n",
       "    <tr>\n",
       "      <th>2023-07-07</th>\n",
       "      <td>AAPL</td>\n",
       "      <td>191.410004</td>\n",
       "      <td>192.669998</td>\n",
       "      <td>190.240005</td>\n",
       "      <td>190.679993</td>\n",
       "      <td>190.172302</td>\n",
       "      <td>46778000</td>\n",
       "      <td>155.879165</td>\n",
       "    </tr>\n",
       "    <tr>\n",
       "      <th>2023-07-10</th>\n",
       "      <td>AAPL</td>\n",
       "      <td>189.259995</td>\n",
       "      <td>189.990005</td>\n",
       "      <td>187.039993</td>\n",
       "      <td>188.610001</td>\n",
       "      <td>188.107834</td>\n",
       "      <td>59922200</td>\n",
       "      <td>155.914521</td>\n",
       "    </tr>\n",
       "    <tr>\n",
       "      <th>2023-07-11</th>\n",
       "      <td>AAPL</td>\n",
       "      <td>189.160004</td>\n",
       "      <td>189.300003</td>\n",
       "      <td>186.600006</td>\n",
       "      <td>188.080002</td>\n",
       "      <td>187.579239</td>\n",
       "      <td>46638100</td>\n",
       "      <td>155.958699</td>\n",
       "    </tr>\n",
       "    <tr>\n",
       "      <th>2023-07-12</th>\n",
       "      <td>AAPL</td>\n",
       "      <td>189.679993</td>\n",
       "      <td>191.699997</td>\n",
       "      <td>188.470001</td>\n",
       "      <td>189.770004</td>\n",
       "      <td>189.264740</td>\n",
       "      <td>60750200</td>\n",
       "      <td>155.999094</td>\n",
       "    </tr>\n",
       "    <tr>\n",
       "      <th>...</th>\n",
       "      <td>...</td>\n",
       "      <td>...</td>\n",
       "      <td>...</td>\n",
       "      <td>...</td>\n",
       "      <td>...</td>\n",
       "      <td>...</td>\n",
       "      <td>...</td>\n",
       "      <td>...</td>\n",
       "    </tr>\n",
       "    <tr>\n",
       "      <th>2023-11-17</th>\n",
       "      <td>AAPL</td>\n",
       "      <td>190.250000</td>\n",
       "      <td>190.380005</td>\n",
       "      <td>188.570007</td>\n",
       "      <td>189.690002</td>\n",
       "      <td>189.690002</td>\n",
       "      <td>50922700</td>\n",
       "      <td>156.849481</td>\n",
       "    </tr>\n",
       "    <tr>\n",
       "      <th>2023-11-20</th>\n",
       "      <td>AAPL</td>\n",
       "      <td>189.889999</td>\n",
       "      <td>191.910004</td>\n",
       "      <td>189.880005</td>\n",
       "      <td>191.449997</td>\n",
       "      <td>191.449997</td>\n",
       "      <td>46505100</td>\n",
       "      <td>156.871719</td>\n",
       "    </tr>\n",
       "    <tr>\n",
       "      <th>2023-11-21</th>\n",
       "      <td>AAPL</td>\n",
       "      <td>191.410004</td>\n",
       "      <td>191.520004</td>\n",
       "      <td>189.740005</td>\n",
       "      <td>190.639999</td>\n",
       "      <td>190.639999</td>\n",
       "      <td>38134500</td>\n",
       "      <td>156.907165</td>\n",
       "    </tr>\n",
       "    <tr>\n",
       "      <th>2023-11-22</th>\n",
       "      <td>AAPL</td>\n",
       "      <td>191.490005</td>\n",
       "      <td>192.929993</td>\n",
       "      <td>190.830002</td>\n",
       "      <td>191.309998</td>\n",
       "      <td>191.309998</td>\n",
       "      <td>39617700</td>\n",
       "      <td>156.934074</td>\n",
       "    </tr>\n",
       "    <tr>\n",
       "      <th>2023-11-24</th>\n",
       "      <td>AAPL</td>\n",
       "      <td>190.869995</td>\n",
       "      <td>190.899994</td>\n",
       "      <td>189.250000</td>\n",
       "      <td>189.970001</td>\n",
       "      <td>189.970001</td>\n",
       "      <td>24048300</td>\n",
       "      <td>156.957530</td>\n",
       "    </tr>\n",
       "  </tbody>\n",
       "</table>\n",
       "<p>100 rows × 8 columns</p>\n",
       "</div>"
      ],
      "text/plain": [
       "           Stock        Open        High         Low       Close   Adj Close  \\\n",
       "Date                                                                           \n",
       "2023-07-06  AAPL  189.839996  192.020004  189.199997  191.809998  191.299301   \n",
       "2023-07-07  AAPL  191.410004  192.669998  190.240005  190.679993  190.172302   \n",
       "2023-07-10  AAPL  189.259995  189.990005  187.039993  188.610001  188.107834   \n",
       "2023-07-11  AAPL  189.160004  189.300003  186.600006  188.080002  187.579239   \n",
       "2023-07-12  AAPL  189.679993  191.699997  188.470001  189.770004  189.264740   \n",
       "...          ...         ...         ...         ...         ...         ...   \n",
       "2023-11-17  AAPL  190.250000  190.380005  188.570007  189.690002  189.690002   \n",
       "2023-11-20  AAPL  189.889999  191.910004  189.880005  191.449997  191.449997   \n",
       "2023-11-21  AAPL  191.410004  191.520004  189.740005  190.639999  190.639999   \n",
       "2023-11-22  AAPL  191.490005  192.929993  190.830002  191.309998  191.309998   \n",
       "2023-11-24  AAPL  190.869995  190.899994  189.250000  189.970001  189.970001   \n",
       "\n",
       "              Volume  Predictions  \n",
       "Date                               \n",
       "2023-07-06  45094300   155.841200  \n",
       "2023-07-07  46778000   155.879165  \n",
       "2023-07-10  59922200   155.914521  \n",
       "2023-07-11  46638100   155.958699  \n",
       "2023-07-12  60750200   155.999094  \n",
       "...              ...          ...  \n",
       "2023-11-17  50922700   156.849481  \n",
       "2023-11-20  46505100   156.871719  \n",
       "2023-11-21  38134500   156.907165  \n",
       "2023-11-22  39617700   156.934074  \n",
       "2023-11-24  24048300   156.957530  \n",
       "\n",
       "[100 rows x 8 columns]"
      ]
     },
     "execution_count": 60,
     "metadata": {},
     "output_type": "execute_result"
    }
   ],
   "source": [
    "test_mv"
   ]
  },
  {
   "cell_type": "code",
   "execution_count": 61,
   "id": "93aed75e-a897-4ef2-b89d-a5b90d5feb43",
   "metadata": {},
   "outputs": [],
   "source": [
    "num_forecast_steps = 100  # Adjust as needed\n",
    "\n",
    "for i in range(num_forecast_steps):\n",
    "    a = test_mv['Close'][len(test_mv) - 250 + i:].sum() + sum(predsFormv)\n",
    "    b = a / 250\n",
    "    predsFormv.append(b)\n",
    "\n",
    "\n",
    "last_timestamp = pd.Timestamp(test_mv.index[99])\n",
    "\n",
    "\n",
    "forecast_index_mv = pd.date_range(start=last_timestamp + pd.Timedelta(days=1), periods=num_forecast_steps, freq='B')\n",
    "forecast_df_mv = pd.DataFrame({'Predictions': predsFormv[-num_forecast_steps:]}, index=forecast_index)\n",
    "\n"
   ]
  },
  {
   "cell_type": "code",
   "execution_count": 62,
   "id": "5a489a1e-9a7a-4d65-a6f2-79305b1458f8",
   "metadata": {},
   "outputs": [
    {
     "data": {
      "text/plain": [
       "Timestamp('2023-11-24 00:00:00')"
      ]
     },
     "execution_count": 62,
     "metadata": {},
     "output_type": "execute_result"
    }
   ],
   "source": [
    "last_timestamp"
   ]
  },
  {
   "cell_type": "code",
   "execution_count": 63,
   "id": "06aaef06-b1ed-4860-891f-51b1fff2558d",
   "metadata": {},
   "outputs": [
    {
     "data": {
      "text/html": [
       "<div>\n",
       "<style scoped>\n",
       "    .dataframe tbody tr th:only-of-type {\n",
       "        vertical-align: middle;\n",
       "    }\n",
       "\n",
       "    .dataframe tbody tr th {\n",
       "        vertical-align: top;\n",
       "    }\n",
       "\n",
       "    .dataframe thead th {\n",
       "        text-align: right;\n",
       "    }\n",
       "</style>\n",
       "<table border=\"1\" class=\"dataframe\">\n",
       "  <thead>\n",
       "    <tr style=\"text-align: right;\">\n",
       "      <th></th>\n",
       "      <th>Predictions</th>\n",
       "    </tr>\n",
       "  </thead>\n",
       "  <tbody>\n",
       "    <tr>\n",
       "      <th>2023-11-24</th>\n",
       "      <td>134.960041</td>\n",
       "    </tr>\n",
       "    <tr>\n",
       "      <th>2023-11-27</th>\n",
       "      <td>135.499881</td>\n",
       "    </tr>\n",
       "    <tr>\n",
       "      <th>2023-11-28</th>\n",
       "      <td>136.041880</td>\n",
       "    </tr>\n",
       "    <tr>\n",
       "      <th>2023-11-29</th>\n",
       "      <td>136.586048</td>\n",
       "    </tr>\n",
       "    <tr>\n",
       "      <th>2023-11-30</th>\n",
       "      <td>137.132392</td>\n",
       "    </tr>\n",
       "    <tr>\n",
       "      <th>...</th>\n",
       "      <td>...</td>\n",
       "    </tr>\n",
       "    <tr>\n",
       "      <th>2024-04-05</th>\n",
       "      <td>160.557660</td>\n",
       "    </tr>\n",
       "    <tr>\n",
       "      <th>2024-04-08</th>\n",
       "      <td>160.487171</td>\n",
       "    </tr>\n",
       "    <tr>\n",
       "      <th>2024-04-09</th>\n",
       "      <td>160.411680</td>\n",
       "    </tr>\n",
       "    <tr>\n",
       "      <th>2024-04-10</th>\n",
       "      <td>160.348126</td>\n",
       "    </tr>\n",
       "    <tr>\n",
       "      <th>2024-04-11</th>\n",
       "      <td>160.292679</td>\n",
       "    </tr>\n",
       "  </tbody>\n",
       "</table>\n",
       "<p>100 rows × 1 columns</p>\n",
       "</div>"
      ],
      "text/plain": [
       "            Predictions\n",
       "2023-11-24   134.960041\n",
       "2023-11-27   135.499881\n",
       "2023-11-28   136.041880\n",
       "2023-11-29   136.586048\n",
       "2023-11-30   137.132392\n",
       "...                 ...\n",
       "2024-04-05   160.557660\n",
       "2024-04-08   160.487171\n",
       "2024-04-09   160.411680\n",
       "2024-04-10   160.348126\n",
       "2024-04-11   160.292679\n",
       "\n",
       "[100 rows x 1 columns]"
      ]
     },
     "execution_count": 63,
     "metadata": {},
     "output_type": "execute_result"
    }
   ],
   "source": [
    "forecast_df_mv"
   ]
  },
  {
   "cell_type": "code",
   "execution_count": 64,
   "id": "3b848691-4a3f-4343-99ba-97fff47696d2",
   "metadata": {},
   "outputs": [
    {
     "data": {
      "image/png": "[encoded data removed]",
      "text/plain": [
       "<Figure size 640x480 with 1 Axes>"
      ]
     },
     "metadata": {},
     "output_type": "display_data"
    }
   ],
   "source": [
    "\n",
    "plt.plot(forecast_df.index,forecast_df_mv['Predictions'], label='Forecast', linestyle='dashed', color='red')\n",
    "\n",
    "plt.title('Apple Stock Price Forecast with Simple moving Average ')\n",
    "plt.xlabel('Date')\n",
    "plt.ylabel('Close Price')\n",
    "plt.legend()\n",
    "plt.show()"
   ]
  },
  {
   "cell_type": "code",
   "execution_count": 65,
   "id": "1f0da08a-7272-4446-95e0-75648b22017d",
   "metadata": {},
   "outputs": [
    {
     "data": {
      "text/html": [
       "<div>\n",
       "<style scoped>\n",
       "    .dataframe tbody tr th:only-of-type {\n",
       "        vertical-align: middle;\n",
       "    }\n",
       "\n",
       "    .dataframe tbody tr th {\n",
       "        vertical-align: top;\n",
       "    }\n",
       "\n",
       "    .dataframe thead th {\n",
       "        text-align: right;\n",
       "    }\n",
       "</style>\n",
       "<table border=\"1\" class=\"dataframe\">\n",
       "  <thead>\n",
       "    <tr style=\"text-align: right;\">\n",
       "      <th></th>\n",
       "      <th>Predictions</th>\n",
       "    </tr>\n",
       "  </thead>\n",
       "  <tbody>\n",
       "    <tr>\n",
       "      <th>2023-11-24</th>\n",
       "      <td>134.960041</td>\n",
       "    </tr>\n",
       "    <tr>\n",
       "      <th>2023-11-27</th>\n",
       "      <td>135.499881</td>\n",
       "    </tr>\n",
       "    <tr>\n",
       "      <th>2023-11-28</th>\n",
       "      <td>136.041880</td>\n",
       "    </tr>\n",
       "    <tr>\n",
       "      <th>2023-11-29</th>\n",
       "      <td>136.586048</td>\n",
       "    </tr>\n",
       "    <tr>\n",
       "      <th>2023-11-30</th>\n",
       "      <td>137.132392</td>\n",
       "    </tr>\n",
       "    <tr>\n",
       "      <th>...</th>\n",
       "      <td>...</td>\n",
       "    </tr>\n",
       "    <tr>\n",
       "      <th>2024-04-05</th>\n",
       "      <td>160.557660</td>\n",
       "    </tr>\n",
       "    <tr>\n",
       "      <th>2024-04-08</th>\n",
       "      <td>160.487171</td>\n",
       "    </tr>\n",
       "    <tr>\n",
       "      <th>2024-04-09</th>\n",
       "      <td>160.411680</td>\n",
       "    </tr>\n",
       "    <tr>\n",
       "      <th>2024-04-10</th>\n",
       "      <td>160.348126</td>\n",
       "    </tr>\n",
       "    <tr>\n",
       "      <th>2024-04-11</th>\n",
       "      <td>160.292679</td>\n",
       "    </tr>\n",
       "  </tbody>\n",
       "</table>\n",
       "<p>100 rows × 1 columns</p>\n",
       "</div>"
      ],
      "text/plain": [
       "            Predictions\n",
       "2023-11-24   134.960041\n",
       "2023-11-27   135.499881\n",
       "2023-11-28   136.041880\n",
       "2023-11-29   136.586048\n",
       "2023-11-30   137.132392\n",
       "...                 ...\n",
       "2024-04-05   160.557660\n",
       "2024-04-08   160.487171\n",
       "2024-04-09   160.411680\n",
       "2024-04-10   160.348126\n",
       "2024-04-11   160.292679\n",
       "\n",
       "[100 rows x 1 columns]"
      ]
     },
     "execution_count": 65,
     "metadata": {},
     "output_type": "execute_result"
    }
   ],
   "source": [
    "forecast_df_mv"
   ]
  },
  {
   "cell_type": "code",
   "execution_count": 66,
   "id": "64f599ca-3d6b-48eb-a9ba-9f2aeb2b560a",
   "metadata": {},
   "outputs": [
    {
     "data": {
      "text/html": [
       "<div>\n",
       "<style scoped>\n",
       "    .dataframe tbody tr th:only-of-type {\n",
       "        vertical-align: middle;\n",
       "    }\n",
       "\n",
       "    .dataframe tbody tr th {\n",
       "        vertical-align: top;\n",
       "    }\n",
       "\n",
       "    .dataframe thead th {\n",
       "        text-align: right;\n",
       "    }\n",
       "</style>\n",
       "<table border=\"1\" class=\"dataframe\">\n",
       "  <thead>\n",
       "    <tr style=\"text-align: right;\">\n",
       "      <th></th>\n",
       "      <th>Forecast</th>\n",
       "    </tr>\n",
       "  </thead>\n",
       "  <tbody>\n",
       "    <tr>\n",
       "      <th>2023-11-24</th>\n",
       "      <td>129.580701</td>\n",
       "    </tr>\n",
       "    <tr>\n",
       "      <th>2023-11-27</th>\n",
       "      <td>129.622438</td>\n",
       "    </tr>\n",
       "    <tr>\n",
       "      <th>2023-11-28</th>\n",
       "      <td>129.747649</td>\n",
       "    </tr>\n",
       "    <tr>\n",
       "      <th>2023-11-29</th>\n",
       "      <td>129.789386</td>\n",
       "    </tr>\n",
       "    <tr>\n",
       "      <th>2023-11-30</th>\n",
       "      <td>129.831123</td>\n",
       "    </tr>\n",
       "  </tbody>\n",
       "</table>\n",
       "</div>"
      ],
      "text/plain": [
       "              Forecast\n",
       "2023-11-24  129.580701\n",
       "2023-11-27  129.622438\n",
       "2023-11-28  129.747649\n",
       "2023-11-29  129.789386\n",
       "2023-11-30  129.831123"
      ]
     },
     "execution_count": 66,
     "metadata": {},
     "output_type": "execute_result"
    }
   ],
   "source": [
    "forecast_df.head(5)"
   ]
  },
  {
   "cell_type": "markdown",
   "id": "8c87fb45-c675-4b27-8a13-0606e753c1fd",
   "metadata": {},
   "source": [
    "moving average of google"
   ]
  },
  {
   "cell_type": "code",
   "execution_count": 68,
   "id": "e93443e7-364e-4eef-95bd-2930f2a50fd2",
   "metadata": {},
   "outputs": [],
   "source": [
    "\n",
    "\n",
    "train_mv_google = df_google_stocks.iloc[:-100]\n",
    "test_mv_google = df_google_stocks.iloc[-100:]\n",
    "\n",
    "predictors_mv= [\"Close\"]\n",
    "train_mv_google= train_mv_google.set_index('Date')\n",
    "test_mv_google = test_mv_google.set_index('Date')"
   ]
  },
  {
   "cell_type": "code",
   "execution_count": 69,
   "id": "255cb6ee-1b9e-4e8e-adc5-767f14e251e3",
   "metadata": {},
   "outputs": [],
   "source": [
    "predsFormvGoogle = []\n",
    "for i in range(0,test_mv_google.shape[0]):\n",
    "    a = train_mv_google['Close'][len(train_mv_google)-250+i:].sum() + sum(predsFormvGoogle)\n",
    "    b = a/250\n",
    "    predsFormvGoogle.append(b)"
   ]
  },
  {
   "cell_type": "code",
   "execution_count": 70,
   "id": "863ea5d9-c1eb-4d80-a392-a905aa0326b6",
   "metadata": {},
   "outputs": [
    {
     "name": "stdout",
     "output_type": "stream",
     "text": [
      "\n",
      " RMSE value on validation set:\n",
      "28.89036534579635\n"
     ]
    }
   ],
   "source": [
    "rms=np.sqrt(np.mean(np.power((np.array(test_mv_google['Close'])-predsFormvGoogle),2)))\n",
    "print('\\n RMSE value on validation set:')\n",
    "print(rms)"
   ]
  },
  {
   "cell_type": "code",
   "execution_count": 71,
   "id": "92391a9d-05c9-4676-b68d-c07f42c6f0d0",
   "metadata": {},
   "outputs": [
    {
     "data": {
      "text/plain": [
       "[<matplotlib.lines.Line2D at 0x7f5b35c357e0>,\n",
       " <matplotlib.lines.Line2D at 0x7f5b35c35810>]"
      ]
     },
     "execution_count": 71,
     "metadata": {},
     "output_type": "execute_result"
    },
    {
     "data": {
      "image/png": "[encoded data removed]",
      "text/plain": [
       "<Figure size 640x480 with 1 Axes>"
      ]
     },
     "metadata": {},
     "output_type": "display_data"
    }
   ],
   "source": [
    "\n",
    "test_mv_google['Predictions'] = 0\n",
    "test_mv_google['Predictions'] = predsFormvGoogle\n",
    "\n",
    "plt.plot(train_mv_google['Close'])\n",
    "plt.plot(test_mv_google[['Close', 'Predictions']])"
   ]
  },
  {
   "cell_type": "code",
   "execution_count": 72,
   "id": "eb4207bf-94a9-472c-a977-1a9b460c8ad2",
   "metadata": {},
   "outputs": [],
   "source": [
    "num_forecast_steps = 100  \n",
    "\n",
    "for i in range(num_forecast_steps):\n",
    "    a = test_mv_google['Close'][len(test_mv_google) - 250 + i:].sum() + sum(predsFormvGoogle)\n",
    "    b = a / 250\n",
    "    predsFormvGoogle.append(b)\n",
    "\n",
    "\n",
    "last_timestamp = pd.Timestamp(test_mv_google.index[99])\n",
    "\n",
    "\n",
    "forecast_index_mv = pd.date_range(start=last_timestamp + pd.Timedelta(days=1), periods=num_forecast_steps, freq='B')\n",
    "forecast_df_mv_google = pd.DataFrame({'Predictions': predsFormvGoogle[-num_forecast_steps:]}, index=forecast_index)\n",
    "\n"
   ]
  },
  {
   "cell_type": "code",
   "execution_count": 73,
   "id": "eee83926-d189-4404-a5a4-541f13c4a681",
   "metadata": {},
   "outputs": [
    {
     "data": {
      "image/png": "[encoded data removed]",
      "text/plain": [
       "<Figure size 640x480 with 1 Axes>"
      ]
     },
     "metadata": {},
     "output_type": "display_data"
    }
   ],
   "source": [
    "\n",
    "plt.plot(forecast_df_mv_google.index,forecast_df_mv_google['Predictions'], label='Forecast', linestyle='dashed', color='red')\n",
    "\n",
    "plt.title('Google Stock Price Forecast with Simple moving Average ')\n",
    "plt.xlabel('Date')\n",
    "plt.ylabel('Close Price')\n",
    "plt.legend()\n",
    "plt.show()"
   ]
  },
  {
   "cell_type": "markdown",
   "id": "1de69c7c-cdc1-49c6-a304-e57c8cd9239b",
   "metadata": {},
   "source": [
    "Moving average of NVDA"
   ]
  },
  {
   "cell_type": "code",
   "execution_count": 74,
   "id": "246d9545-7d4d-42a6-ae39-f14da8245275",
   "metadata": {},
   "outputs": [],
   "source": [
    "train_mv_nvda = df_nvda_stocks.iloc[:-100]\n",
    "test_mv_nvda = df_nvda_stocks.iloc[-100:]\n",
    "\n",
    "predictors_mv= [\"Close\"]\n",
    "train_mv_nvda= train_mv_nvda.set_index('Date')\n",
    "test_mv_nvda= test_mv_nvda.set_index('Date')"
   ]
  },
  {
   "cell_type": "code",
   "execution_count": 75,
   "id": "a972090e-58fb-4511-a9bb-aa76a97af9ca",
   "metadata": {},
   "outputs": [],
   "source": [
    "predsFormvNvda = []\n",
    "for i in range(0,test_mv_nvda.shape[0]):\n",
    "    a = train_mv_nvda['Close'][len(train_mv_nvda)-250+i:].sum() + sum(predsFormvNvda)\n",
    "    b = a/250\n",
    "    predsFormvNvda.append(b)"
   ]
  },
  {
   "cell_type": "code",
   "execution_count": 76,
   "id": "46e4a34d-b1f4-4ed6-8204-89921ff93a51",
   "metadata": {},
   "outputs": [
    {
     "name": "stdout",
     "output_type": "stream",
     "text": [
      "\n",
      " RMSE value on validation set:\n",
      "223.928051804604\n"
     ]
    }
   ],
   "source": [
    "rms=np.sqrt(np.mean(np.power((np.array(test_mv_nvda['Close'])-predsFormvNvda),2)))\n",
    "print('\\n RMSE value on validation set:')\n",
    "print(rms)"
   ]
  },
  {
   "cell_type": "code",
   "execution_count": 77,
   "id": "e1216f13-f735-4be9-a216-1a6ebcc61274",
   "metadata": {},
   "outputs": [
    {
     "data": {
      "text/plain": [
       "[<matplotlib.lines.Line2D at 0x7f5b35b050c0>,\n",
       " <matplotlib.lines.Line2D at 0x7f5b35b050f0>]"
      ]
     },
     "execution_count": 77,
     "metadata": {},
     "output_type": "execute_result"
    },
    {
     "data": {
      "image/png": "[encoded data removed]",
      "text/plain": [
       "<Figure size 640x480 with 1 Axes>"
      ]
     },
     "metadata": {},
     "output_type": "display_data"
    }
   ],
   "source": [
    "\n",
    "test_mv_nvda['Predictions'] = 0\n",
    "test_mv_nvda['Predictions'] = predsFormvNvda\n",
    "\n",
    "plt.plot(train_mv_nvda['Close'])\n",
    "plt.plot(test_mv_nvda[['Close', 'Predictions']])"
   ]
  },
  {
   "cell_type": "code",
   "execution_count": 78,
   "id": "bc746070-eb0e-45fe-8c5d-3b0e38c39d28",
   "metadata": {},
   "outputs": [],
   "source": [
    "num_forecast_steps = 100  \n",
    "\n",
    "for i in range(num_forecast_steps):\n",
    "    a = test_mv_nvda['Close'][len(test_mv_nvda) - 250 + i:].sum() + sum(predsFormvNvda)\n",
    "    b = a / 250\n",
    "    predsFormvGoogle.append(b)\n",
    "\n",
    "\n",
    "last_timestamp = pd.Timestamp(test_mv_nvda.index[99])\n",
    "\n",
    "\n",
    "forecast_index_mv = pd.date_range(start=last_timestamp + pd.Timedelta(days=1), periods=num_forecast_steps, freq='B')\n",
    "forecast_df_mv_nvda= pd.DataFrame({'Predictions': predsFormvNvda[-num_forecast_steps:]}, index=forecast_index)\n",
    "\n"
   ]
  },
  {
   "cell_type": "code",
   "execution_count": 79,
   "id": "6aeb6355-d878-4288-a0a8-3ab48e21d39d",
   "metadata": {},
   "outputs": [
    {
     "data": {
      "image/png": "[encoded data removed]",
      "text/plain": [
       "<Figure size 640x480 with 1 Axes>"
      ]
     },
     "metadata": {},
     "output_type": "display_data"
    }
   ],
   "source": [
    "\n",
    "plt.plot(forecast_df_mv_nvda.index,forecast_df_mv_nvda['Predictions'], label='Forecast', linestyle='dashed', color='red')\n",
    "\n",
    "plt.title('NVDA Stock Price Forecast with Simple moving Average ')\n",
    "plt.xlabel('Date')\n",
    "plt.ylabel('Close Price')\n",
    "plt.legend()\n",
    "plt.show()"
   ]
  }
 ],
 "metadata": {
  "kernelspec": {
   "display_name": "Python (Local)",
   "language": "python",
   "name": "local-base"
  },
  "language_info": {
   "codemirror_mode": {
    "name": "ipython",
    "version": 3
   },
   "file_extension": ".py",
   "mimetype": "text/x-python",
   "name": "python",
   "nbconvert_exporter": "python",
   "pygments_lexer": "ipython3",
   "version": "3.10.12"
  }
 },
 "nbformat": 4,
 "nbformat_minor": 5
}
